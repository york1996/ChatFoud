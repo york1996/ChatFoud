{
 "cells": [
  {
   "cell_type": "code",
   "execution_count": 1,
   "metadata": {},
   "outputs": [
    {
     "name": "stderr",
     "output_type": "stream",
     "text": [
      "Some weights of BertForSequenceClassification were not initialized from the model checkpoint at DMetaSoul/Dmeta-embedding-zh-small and are newly initialized: ['classifier.bias', 'classifier.weight']\n",
      "You should probably TRAIN this model on a down-stream task to be able to use it for predictions and inference.\n"
     ]
    }
   ],
   "source": [
    "import datasets\n",
    "from datasets import load_dataset\n",
    "from pathlib import Path\n",
    "from transformers import AutoTokenizer, DataCollatorWithPadding, AutoModelForSequenceClassification, TrainingArguments, Trainer, pipeline\n",
    "import evaluate\n",
    "import numpy as np\n",
    "from sklearn.metrics import confusion_matrix\n",
    "import seaborn as sns\n",
    "import matplotlib.pyplot as plt\n",
    "\n",
    "data_dir = \"./datasets/FinQuestions_v2\"\n",
    "token_dir = \"./tokenizers/\"\n",
    "model_dir = \"./models/\"\n",
    "model_name = \"DMetaSoul/Dmeta-embedding-zh-small\"  # ~297MB\n",
    "output_dir=\"./finetune_small_v2\"\n",
    "\n",
    "finq = load_dataset(\"parquet\", data_dir=data_dir)\n",
    "\n",
    "# 下面两行代码只需首次运行\n",
    "tokenizer = AutoTokenizer.from_pretrained(model_name)\n",
    "tokenizer.save_pretrained(token_dir+model_name)\n",
    "\n",
    "tokenizer = AutoTokenizer.from_pretrained(token_dir+model_name)\n",
    "\n",
    "def preprocess_function(examples):\n",
    "    return tokenizer(examples[\"text\"], truncation=True)\n",
    "\n",
    "tokenized = finq.map(preprocess_function, batched=True)\n",
    "\n",
    "data_collator = DataCollatorWithPadding(tokenizer=tokenizer)\n",
    "\n",
    "accuracy = evaluate.load(\"accuracy\")\n",
    "\n",
    "def compute_metrics(eval_pred):\n",
    "    predictions, labels = eval_pred\n",
    "    predictions = np.argmax(predictions, axis=1)\n",
    "    return accuracy.compute(predictions=predictions, references=labels)\n",
    "\n",
    "id2label = {0: \"FALSE\", 1: \"TRUE\"}\n",
    "label2id = {\"FALSE\": 0, \"TRUE\": 1}\n",
    "\n",
    "# 下面两行代码只需首次运行\n",
    "model = AutoModelForSequenceClassification.from_pretrained( model_name, num_labels=2, id2label=id2label, label2id=label2id)\n",
    "model.save_pretrained(model_dir+model_name)\n",
    "\n",
    "model = AutoModelForSequenceClassification.from_pretrained(\n",
    "    model_dir+model_name, \n",
    "    num_labels=2, \n",
    "    id2label=id2label, \n",
    "    label2id=label2id\n",
    ")"
   ]
  },
  {
   "cell_type": "code",
   "execution_count": 2,
   "metadata": {},
   "outputs": [
    {
     "data": {
      "application/vnd.jupyter.widget-view+json": {
       "model_id": "bea4c9973e9a404fadf877f2abde293e",
       "version_major": 2,
       "version_minor": 0
      },
      "text/plain": [
       "  0%|          | 0/192 [00:00<?, ?it/s]"
      ]
     },
     "metadata": {},
     "output_type": "display_data"
    },
    {
     "name": "stdout",
     "output_type": "stream",
     "text": [
      "{'loss': 0.691, 'grad_norm': 1.8811014890670776, 'learning_rate': 2.0000000000000003e-06, 'epoch': 0.12}\n"
     ]
    },
    {
     "data": {
      "application/vnd.jupyter.widget-view+json": {
       "model_id": "a8a845fba60642c3b79edbd9b0b74fb9",
       "version_major": 2,
       "version_minor": 0
      },
      "text/plain": [
       "  0%|          | 0/4 [00:00<?, ?it/s]"
      ]
     },
     "metadata": {},
     "output_type": "display_data"
    },
    {
     "name": "stdout",
     "output_type": "stream",
     "text": [
      "{'eval_loss': 0.679595947265625, 'eval_accuracy': 0.585, 'eval_runtime': 0.3437, 'eval_samples_per_second': 581.903, 'eval_steps_per_second': 11.638, 'epoch': 0.12}\n",
      "{'loss': 0.6696, 'grad_norm': 2.066859722137451, 'learning_rate': 4.000000000000001e-06, 'epoch': 0.25}\n"
     ]
    },
    {
     "data": {
      "application/vnd.jupyter.widget-view+json": {
       "model_id": "4ad576f0667c460abc0a1e33f6363534",
       "version_major": 2,
       "version_minor": 0
      },
      "text/plain": [
       "  0%|          | 0/4 [00:00<?, ?it/s]"
      ]
     },
     "metadata": {},
     "output_type": "display_data"
    },
    {
     "name": "stdout",
     "output_type": "stream",
     "text": [
      "{'eval_loss': 0.6652376055717468, 'eval_accuracy': 0.66, 'eval_runtime': 0.3379, 'eval_samples_per_second': 591.833, 'eval_steps_per_second': 11.837, 'epoch': 0.25}\n",
      "{'loss': 0.6687, 'grad_norm': 1.728057861328125, 'learning_rate': 6e-06, 'epoch': 0.38}\n"
     ]
    },
    {
     "data": {
      "application/vnd.jupyter.widget-view+json": {
       "model_id": "d4ba430d338749afbe465f25cfad7a52",
       "version_major": 2,
       "version_minor": 0
      },
      "text/plain": [
       "  0%|          | 0/4 [00:00<?, ?it/s]"
      ]
     },
     "metadata": {},
     "output_type": "display_data"
    },
    {
     "name": "stdout",
     "output_type": "stream",
     "text": [
      "{'eval_loss': 0.6409053206443787, 'eval_accuracy': 0.7, 'eval_runtime': 0.3368, 'eval_samples_per_second': 593.768, 'eval_steps_per_second': 11.875, 'epoch': 0.38}\n",
      "{'loss': 0.6234, 'grad_norm': 2.477918863296509, 'learning_rate': 8.000000000000001e-06, 'epoch': 0.5}\n"
     ]
    },
    {
     "data": {
      "application/vnd.jupyter.widget-view+json": {
       "model_id": "62f2e2b2c3d341a48f03f991c0c78c3d",
       "version_major": 2,
       "version_minor": 0
      },
      "text/plain": [
       "  0%|          | 0/4 [00:00<?, ?it/s]"
      ]
     },
     "metadata": {},
     "output_type": "display_data"
    },
    {
     "name": "stdout",
     "output_type": "stream",
     "text": [
      "{'eval_loss': 0.6086198687553406, 'eval_accuracy': 0.73, 'eval_runtime': 0.3334, 'eval_samples_per_second': 599.803, 'eval_steps_per_second': 11.996, 'epoch': 0.5}\n",
      "{'loss': 0.604, 'grad_norm': 1.8023375272750854, 'learning_rate': 1e-05, 'epoch': 0.62}\n"
     ]
    },
    {
     "data": {
      "application/vnd.jupyter.widget-view+json": {
       "model_id": "2355446aff3248b2a0ec4160477a84de",
       "version_major": 2,
       "version_minor": 0
      },
      "text/plain": [
       "  0%|          | 0/4 [00:00<?, ?it/s]"
      ]
     },
     "metadata": {},
     "output_type": "display_data"
    },
    {
     "name": "stdout",
     "output_type": "stream",
     "text": [
      "{'eval_loss': 0.5667508840560913, 'eval_accuracy': 0.745, 'eval_runtime': 0.3379, 'eval_samples_per_second': 591.852, 'eval_steps_per_second': 11.837, 'epoch': 0.62}\n",
      "{'loss': 0.5641, 'grad_norm': 1.9367485046386719, 'learning_rate': 9.767441860465117e-06, 'epoch': 0.75}\n"
     ]
    },
    {
     "data": {
      "application/vnd.jupyter.widget-view+json": {
       "model_id": "7b88f203c0004a13a92eec08a0c339ef",
       "version_major": 2,
       "version_minor": 0
      },
      "text/plain": [
       "  0%|          | 0/4 [00:00<?, ?it/s]"
      ]
     },
     "metadata": {},
     "output_type": "display_data"
    },
    {
     "name": "stdout",
     "output_type": "stream",
     "text": [
      "{'eval_loss': 0.516383707523346, 'eval_accuracy': 0.82, 'eval_runtime': 0.3346, 'eval_samples_per_second': 597.675, 'eval_steps_per_second': 11.954, 'epoch': 0.75}\n",
      "{'loss': 0.5158, 'grad_norm': 1.9844428300857544, 'learning_rate': 9.534883720930234e-06, 'epoch': 0.88}\n"
     ]
    },
    {
     "data": {
      "application/vnd.jupyter.widget-view+json": {
       "model_id": "6eaad596337e436db081578b8f14f9ce",
       "version_major": 2,
       "version_minor": 0
      },
      "text/plain": [
       "  0%|          | 0/4 [00:00<?, ?it/s]"
      ]
     },
     "metadata": {},
     "output_type": "display_data"
    },
    {
     "name": "stdout",
     "output_type": "stream",
     "text": [
      "{'eval_loss': 0.46208304166793823, 'eval_accuracy': 0.92, 'eval_runtime': 0.3362, 'eval_samples_per_second': 594.896, 'eval_steps_per_second': 11.898, 'epoch': 0.88}\n",
      "{'loss': 0.4441, 'grad_norm': 2.1011428833007812, 'learning_rate': 9.30232558139535e-06, 'epoch': 1.0}\n"
     ]
    },
    {
     "data": {
      "application/vnd.jupyter.widget-view+json": {
       "model_id": "fdb20b9a0fed4a9bbdf34c0863482546",
       "version_major": 2,
       "version_minor": 0
      },
      "text/plain": [
       "  0%|          | 0/4 [00:00<?, ?it/s]"
      ]
     },
     "metadata": {},
     "output_type": "display_data"
    },
    {
     "name": "stdout",
     "output_type": "stream",
     "text": [
      "{'eval_loss': 0.40394890308380127, 'eval_accuracy': 0.96, 'eval_runtime': 0.3379, 'eval_samples_per_second': 591.946, 'eval_steps_per_second': 11.839, 'epoch': 1.0}\n",
      "{'loss': 0.382, 'grad_norm': 2.278578996658325, 'learning_rate': 9.069767441860465e-06, 'epoch': 1.12}\n"
     ]
    },
    {
     "data": {
      "application/vnd.jupyter.widget-view+json": {
       "model_id": "7b1b27b98736482a898321dd501b7c6b",
       "version_major": 2,
       "version_minor": 0
      },
      "text/plain": [
       "  0%|          | 0/4 [00:00<?, ?it/s]"
      ]
     },
     "metadata": {},
     "output_type": "display_data"
    },
    {
     "name": "stdout",
     "output_type": "stream",
     "text": [
      "{'eval_loss': 0.34315159916877747, 'eval_accuracy': 0.975, 'eval_runtime': 0.3324, 'eval_samples_per_second': 601.757, 'eval_steps_per_second': 12.035, 'epoch': 1.12}\n",
      "{'loss': 0.3195, 'grad_norm': 2.2126829624176025, 'learning_rate': 8.837209302325582e-06, 'epoch': 1.25}\n"
     ]
    },
    {
     "data": {
      "application/vnd.jupyter.widget-view+json": {
       "model_id": "4389b18c72e14693a8aaa0570994a6d4",
       "version_major": 2,
       "version_minor": 0
      },
      "text/plain": [
       "  0%|          | 0/4 [00:00<?, ?it/s]"
      ]
     },
     "metadata": {},
     "output_type": "display_data"
    },
    {
     "name": "stdout",
     "output_type": "stream",
     "text": [
      "{'eval_loss': 0.2820986807346344, 'eval_accuracy': 0.98, 'eval_runtime': 0.3479, 'eval_samples_per_second': 574.913, 'eval_steps_per_second': 11.498, 'epoch': 1.25}\n",
      "{'loss': 0.2604, 'grad_norm': 2.2708582878112793, 'learning_rate': 8.604651162790698e-06, 'epoch': 1.38}\n"
     ]
    },
    {
     "data": {
      "application/vnd.jupyter.widget-view+json": {
       "model_id": "cd937c0f47314e90b35065b537f4966d",
       "version_major": 2,
       "version_minor": 0
      },
      "text/plain": [
       "  0%|          | 0/4 [00:00<?, ?it/s]"
      ]
     },
     "metadata": {},
     "output_type": "display_data"
    },
    {
     "name": "stdout",
     "output_type": "stream",
     "text": [
      "{'eval_loss': 0.22473125159740448, 'eval_accuracy': 0.985, 'eval_runtime': 0.3362, 'eval_samples_per_second': 594.835, 'eval_steps_per_second': 11.897, 'epoch': 1.38}\n",
      "{'loss': 0.1944, 'grad_norm': 2.1059961318969727, 'learning_rate': 8.372093023255815e-06, 'epoch': 1.5}\n"
     ]
    },
    {
     "data": {
      "application/vnd.jupyter.widget-view+json": {
       "model_id": "34c914601cc842b481367973c843759e",
       "version_major": 2,
       "version_minor": 0
      },
      "text/plain": [
       "  0%|          | 0/4 [00:00<?, ?it/s]"
      ]
     },
     "metadata": {},
     "output_type": "display_data"
    },
    {
     "name": "stdout",
     "output_type": "stream",
     "text": [
      "{'eval_loss': 0.1731148511171341, 'eval_accuracy': 0.99, 'eval_runtime': 0.3364, 'eval_samples_per_second': 594.616, 'eval_steps_per_second': 11.892, 'epoch': 1.5}\n",
      "{'loss': 0.1525, 'grad_norm': 1.6732110977172852, 'learning_rate': 8.139534883720931e-06, 'epoch': 1.62}\n"
     ]
    },
    {
     "data": {
      "application/vnd.jupyter.widget-view+json": {
       "model_id": "6405129c00d34a24a074ad7057addeaf",
       "version_major": 2,
       "version_minor": 0
      },
      "text/plain": [
       "  0%|          | 0/4 [00:00<?, ?it/s]"
      ]
     },
     "metadata": {},
     "output_type": "display_data"
    },
    {
     "name": "stdout",
     "output_type": "stream",
     "text": [
      "{'eval_loss': 0.12891501188278198, 'eval_accuracy': 0.99, 'eval_runtime': 0.3371, 'eval_samples_per_second': 593.375, 'eval_steps_per_second': 11.867, 'epoch': 1.62}\n",
      "{'loss': 0.1005, 'grad_norm': 1.254931926727295, 'learning_rate': 7.906976744186048e-06, 'epoch': 1.75}\n"
     ]
    },
    {
     "data": {
      "application/vnd.jupyter.widget-view+json": {
       "model_id": "be3f9ca4713e4b2eaacac012da6c70b3",
       "version_major": 2,
       "version_minor": 0
      },
      "text/plain": [
       "  0%|          | 0/4 [00:00<?, ?it/s]"
      ]
     },
     "metadata": {},
     "output_type": "display_data"
    },
    {
     "name": "stdout",
     "output_type": "stream",
     "text": [
      "{'eval_loss': 0.09290317445993423, 'eval_accuracy': 0.99, 'eval_runtime': 0.337, 'eval_samples_per_second': 593.553, 'eval_steps_per_second': 11.871, 'epoch': 1.75}\n",
      "{'loss': 0.0925, 'grad_norm': 0.9019926190376282, 'learning_rate': 7.674418604651164e-06, 'epoch': 1.88}\n"
     ]
    },
    {
     "data": {
      "application/vnd.jupyter.widget-view+json": {
       "model_id": "be745e2c1b9b448a9a528f3c17538be0",
       "version_major": 2,
       "version_minor": 0
      },
      "text/plain": [
       "  0%|          | 0/4 [00:00<?, ?it/s]"
      ]
     },
     "metadata": {},
     "output_type": "display_data"
    },
    {
     "name": "stdout",
     "output_type": "stream",
     "text": [
      "{'eval_loss': 0.06552976369857788, 'eval_accuracy': 0.99, 'eval_runtime': 0.3398, 'eval_samples_per_second': 588.536, 'eval_steps_per_second': 11.771, 'epoch': 1.88}\n",
      "{'loss': 0.051, 'grad_norm': 0.7283670902252197, 'learning_rate': 7.44186046511628e-06, 'epoch': 2.0}\n"
     ]
    },
    {
     "data": {
      "application/vnd.jupyter.widget-view+json": {
       "model_id": "e94470f626c447269decc36880db5223",
       "version_major": 2,
       "version_minor": 0
      },
      "text/plain": [
       "  0%|          | 0/4 [00:00<?, ?it/s]"
      ]
     },
     "metadata": {},
     "output_type": "display_data"
    },
    {
     "name": "stdout",
     "output_type": "stream",
     "text": [
      "{'eval_loss': 0.045936670154333115, 'eval_accuracy': 0.99, 'eval_runtime': 0.3413, 'eval_samples_per_second': 586.005, 'eval_steps_per_second': 11.72, 'epoch': 2.0}\n",
      "{'loss': 0.0359, 'grad_norm': 0.8804190158843994, 'learning_rate': 7.209302325581395e-06, 'epoch': 2.12}\n"
     ]
    },
    {
     "data": {
      "application/vnd.jupyter.widget-view+json": {
       "model_id": "9b06e1e5df934d7d95d537f9f254eb9b",
       "version_major": 2,
       "version_minor": 0
      },
      "text/plain": [
       "  0%|          | 0/4 [00:00<?, ?it/s]"
      ]
     },
     "metadata": {},
     "output_type": "display_data"
    },
    {
     "name": "stdout",
     "output_type": "stream",
     "text": [
      "{'eval_loss': 0.032565440982580185, 'eval_accuracy': 0.995, 'eval_runtime': 0.3337, 'eval_samples_per_second': 599.427, 'eval_steps_per_second': 11.989, 'epoch': 2.12}\n",
      "{'loss': 0.0279, 'grad_norm': 0.3512308895587921, 'learning_rate': 6.976744186046513e-06, 'epoch': 2.25}\n"
     ]
    },
    {
     "data": {
      "application/vnd.jupyter.widget-view+json": {
       "model_id": "f7f7f1a6bd424b6cbf581770ffd71768",
       "version_major": 2,
       "version_minor": 0
      },
      "text/plain": [
       "  0%|          | 0/4 [00:00<?, ?it/s]"
      ]
     },
     "metadata": {},
     "output_type": "display_data"
    },
    {
     "name": "stdout",
     "output_type": "stream",
     "text": [
      "{'eval_loss': 0.025406163185834885, 'eval_accuracy': 0.995, 'eval_runtime': 0.3323, 'eval_samples_per_second': 601.942, 'eval_steps_per_second': 12.039, 'epoch': 2.25}\n",
      "{'loss': 0.0306, 'grad_norm': 2.141197681427002, 'learning_rate': 6.744186046511628e-06, 'epoch': 2.38}\n"
     ]
    },
    {
     "data": {
      "application/vnd.jupyter.widget-view+json": {
       "model_id": "73d9217d303346e2a7801ce322836e3f",
       "version_major": 2,
       "version_minor": 0
      },
      "text/plain": [
       "  0%|          | 0/4 [00:00<?, ?it/s]"
      ]
     },
     "metadata": {},
     "output_type": "display_data"
    },
    {
     "name": "stdout",
     "output_type": "stream",
     "text": [
      "{'eval_loss': 0.022484904155135155, 'eval_accuracy': 0.99, 'eval_runtime': 0.3434, 'eval_samples_per_second': 582.41, 'eval_steps_per_second': 11.648, 'epoch': 2.38}\n",
      "{'loss': 0.0107, 'grad_norm': 0.19266383349895477, 'learning_rate': 6.511627906976745e-06, 'epoch': 2.5}\n"
     ]
    },
    {
     "data": {
      "application/vnd.jupyter.widget-view+json": {
       "model_id": "faa397e25b5243bd9680d894fe644787",
       "version_major": 2,
       "version_minor": 0
      },
      "text/plain": [
       "  0%|          | 0/4 [00:00<?, ?it/s]"
      ]
     },
     "metadata": {},
     "output_type": "display_data"
    },
    {
     "name": "stdout",
     "output_type": "stream",
     "text": [
      "{'eval_loss': 0.021598966792225838, 'eval_accuracy': 0.99, 'eval_runtime': 0.3339, 'eval_samples_per_second': 598.924, 'eval_steps_per_second': 11.978, 'epoch': 2.5}\n",
      "{'loss': 0.0097, 'grad_norm': 0.17005693912506104, 'learning_rate': 6.279069767441861e-06, 'epoch': 2.62}\n"
     ]
    },
    {
     "data": {
      "application/vnd.jupyter.widget-view+json": {
       "model_id": "3b19c2b473f04e8dbecb71b981e53aff",
       "version_major": 2,
       "version_minor": 0
      },
      "text/plain": [
       "  0%|          | 0/4 [00:00<?, ?it/s]"
      ]
     },
     "metadata": {},
     "output_type": "display_data"
    },
    {
     "name": "stdout",
     "output_type": "stream",
     "text": [
      "{'eval_loss': 0.020732486620545387, 'eval_accuracy': 0.99, 'eval_runtime': 0.3378, 'eval_samples_per_second': 592.127, 'eval_steps_per_second': 11.843, 'epoch': 2.62}\n",
      "{'loss': 0.0101, 'grad_norm': 0.1547311395406723, 'learning_rate': 6.046511627906977e-06, 'epoch': 2.75}\n"
     ]
    },
    {
     "data": {
      "application/vnd.jupyter.widget-view+json": {
       "model_id": "edbf02dc327c4964aded0dc193665ed7",
       "version_major": 2,
       "version_minor": 0
      },
      "text/plain": [
       "  0%|          | 0/4 [00:00<?, ?it/s]"
      ]
     },
     "metadata": {},
     "output_type": "display_data"
    },
    {
     "name": "stdout",
     "output_type": "stream",
     "text": [
      "{'eval_loss': 0.017911270260810852, 'eval_accuracy': 0.99, 'eval_runtime': 0.3388, 'eval_samples_per_second': 590.324, 'eval_steps_per_second': 11.806, 'epoch': 2.75}\n",
      "{'loss': 0.0073, 'grad_norm': 0.14757901430130005, 'learning_rate': 5.8139534883720935e-06, 'epoch': 2.88}\n"
     ]
    },
    {
     "data": {
      "application/vnd.jupyter.widget-view+json": {
       "model_id": "071d1f45d5094e8d85c8c8fe690c4335",
       "version_major": 2,
       "version_minor": 0
      },
      "text/plain": [
       "  0%|          | 0/4 [00:00<?, ?it/s]"
      ]
     },
     "metadata": {},
     "output_type": "display_data"
    },
    {
     "name": "stdout",
     "output_type": "stream",
     "text": [
      "{'eval_loss': 0.015859099105000496, 'eval_accuracy': 0.99, 'eval_runtime': 0.3406, 'eval_samples_per_second': 587.206, 'eval_steps_per_second': 11.744, 'epoch': 2.88}\n",
      "{'loss': 0.0087, 'grad_norm': 0.10227556526660919, 'learning_rate': 5.58139534883721e-06, 'epoch': 3.0}\n"
     ]
    },
    {
     "data": {
      "application/vnd.jupyter.widget-view+json": {
       "model_id": "62e627c502d8491c85d313791cd933d5",
       "version_major": 2,
       "version_minor": 0
      },
      "text/plain": [
       "  0%|          | 0/4 [00:00<?, ?it/s]"
      ]
     },
     "metadata": {},
     "output_type": "display_data"
    },
    {
     "name": "stdout",
     "output_type": "stream",
     "text": [
      "{'eval_loss': 0.015652386471629143, 'eval_accuracy': 0.99, 'eval_runtime': 0.3372, 'eval_samples_per_second': 593.041, 'eval_steps_per_second': 11.861, 'epoch': 3.0}\n",
      "{'loss': 0.0057, 'grad_norm': 0.11673838645219803, 'learning_rate': 5.348837209302326e-06, 'epoch': 3.12}\n"
     ]
    },
    {
     "data": {
      "application/vnd.jupyter.widget-view+json": {
       "model_id": "d5e977cb8c8f474fbb4b59ad6b0e6b47",
       "version_major": 2,
       "version_minor": 0
      },
      "text/plain": [
       "  0%|          | 0/4 [00:00<?, ?it/s]"
      ]
     },
     "metadata": {},
     "output_type": "display_data"
    },
    {
     "name": "stdout",
     "output_type": "stream",
     "text": [
      "{'eval_loss': 0.01573019102215767, 'eval_accuracy': 0.99, 'eval_runtime': 0.3367, 'eval_samples_per_second': 594.032, 'eval_steps_per_second': 11.881, 'epoch': 3.12}\n",
      "{'loss': 0.0048, 'grad_norm': 0.08589881658554077, 'learning_rate': 5.116279069767442e-06, 'epoch': 3.25}\n"
     ]
    },
    {
     "data": {
      "application/vnd.jupyter.widget-view+json": {
       "model_id": "94da26899a1b4ac5bd01e7e713980305",
       "version_major": 2,
       "version_minor": 0
      },
      "text/plain": [
       "  0%|          | 0/4 [00:00<?, ?it/s]"
      ]
     },
     "metadata": {},
     "output_type": "display_data"
    },
    {
     "name": "stdout",
     "output_type": "stream",
     "text": [
      "{'eval_loss': 0.015719853341579437, 'eval_accuracy': 0.99, 'eval_runtime': 0.3434, 'eval_samples_per_second': 582.462, 'eval_steps_per_second': 11.649, 'epoch': 3.25}\n",
      "{'loss': 0.0053, 'grad_norm': 0.27219676971435547, 'learning_rate': 4.883720930232559e-06, 'epoch': 3.38}\n"
     ]
    },
    {
     "data": {
      "application/vnd.jupyter.widget-view+json": {
       "model_id": "139faa7896e64826b673617620b41d21",
       "version_major": 2,
       "version_minor": 0
      },
      "text/plain": [
       "  0%|          | 0/4 [00:00<?, ?it/s]"
      ]
     },
     "metadata": {},
     "output_type": "display_data"
    },
    {
     "name": "stdout",
     "output_type": "stream",
     "text": [
      "{'eval_loss': 0.01593710295855999, 'eval_accuracy': 0.99, 'eval_runtime': 0.3352, 'eval_samples_per_second': 596.691, 'eval_steps_per_second': 11.934, 'epoch': 3.38}\n",
      "{'loss': 0.0042, 'grad_norm': 0.08831091970205307, 'learning_rate': 4.651162790697675e-06, 'epoch': 3.5}\n"
     ]
    },
    {
     "data": {
      "application/vnd.jupyter.widget-view+json": {
       "model_id": "b9ba8d406ab7420ea4fe0f9cade5b0ee",
       "version_major": 2,
       "version_minor": 0
      },
      "text/plain": [
       "  0%|          | 0/4 [00:00<?, ?it/s]"
      ]
     },
     "metadata": {},
     "output_type": "display_data"
    },
    {
     "name": "stdout",
     "output_type": "stream",
     "text": [
      "{'eval_loss': 0.01627558097243309, 'eval_accuracy': 0.99, 'eval_runtime': 0.3414, 'eval_samples_per_second': 585.783, 'eval_steps_per_second': 11.716, 'epoch': 3.5}\n",
      "{'loss': 0.0048, 'grad_norm': 0.13188745081424713, 'learning_rate': 4.418604651162791e-06, 'epoch': 3.62}\n"
     ]
    },
    {
     "data": {
      "application/vnd.jupyter.widget-view+json": {
       "model_id": "0d76297d971547cb8dc4ae917e16c105",
       "version_major": 2,
       "version_minor": 0
      },
      "text/plain": [
       "  0%|          | 0/4 [00:00<?, ?it/s]"
      ]
     },
     "metadata": {},
     "output_type": "display_data"
    },
    {
     "name": "stdout",
     "output_type": "stream",
     "text": [
      "{'eval_loss': 0.01603003777563572, 'eval_accuracy': 0.99, 'eval_runtime': 0.3422, 'eval_samples_per_second': 584.513, 'eval_steps_per_second': 11.69, 'epoch': 3.62}\n",
      "{'loss': 0.0046, 'grad_norm': 0.13276945054531097, 'learning_rate': 4.186046511627907e-06, 'epoch': 3.75}\n"
     ]
    },
    {
     "data": {
      "application/vnd.jupyter.widget-view+json": {
       "model_id": "5694a6191ce04f76b6b2f6956b366fa5",
       "version_major": 2,
       "version_minor": 0
      },
      "text/plain": [
       "  0%|          | 0/4 [00:00<?, ?it/s]"
      ]
     },
     "metadata": {},
     "output_type": "display_data"
    },
    {
     "name": "stdout",
     "output_type": "stream",
     "text": [
      "{'eval_loss': 0.014704235829412937, 'eval_accuracy': 0.99, 'eval_runtime': 0.3384, 'eval_samples_per_second': 591.048, 'eval_steps_per_second': 11.821, 'epoch': 3.75}\n",
      "{'loss': 0.0038, 'grad_norm': 0.0852687805891037, 'learning_rate': 3.953488372093024e-06, 'epoch': 3.88}\n"
     ]
    },
    {
     "data": {
      "application/vnd.jupyter.widget-view+json": {
       "model_id": "eec1c4c039814d4a9cfa3ad9f6414207",
       "version_major": 2,
       "version_minor": 0
      },
      "text/plain": [
       "  0%|          | 0/4 [00:00<?, ?it/s]"
      ]
     },
     "metadata": {},
     "output_type": "display_data"
    },
    {
     "name": "stdout",
     "output_type": "stream",
     "text": [
      "{'eval_loss': 0.01366362813860178, 'eval_accuracy': 0.99, 'eval_runtime': 0.35, 'eval_samples_per_second': 571.498, 'eval_steps_per_second': 11.43, 'epoch': 3.88}\n",
      "{'loss': 0.0038, 'grad_norm': 0.08858761191368103, 'learning_rate': 3.72093023255814e-06, 'epoch': 4.0}\n"
     ]
    },
    {
     "data": {
      "application/vnd.jupyter.widget-view+json": {
       "model_id": "36c8d551f9ea46a7951e3cae36106d9f",
       "version_major": 2,
       "version_minor": 0
      },
      "text/plain": [
       "  0%|          | 0/4 [00:00<?, ?it/s]"
      ]
     },
     "metadata": {},
     "output_type": "display_data"
    },
    {
     "name": "stdout",
     "output_type": "stream",
     "text": [
      "{'eval_loss': 0.012817276641726494, 'eval_accuracy': 0.99, 'eval_runtime': 0.3425, 'eval_samples_per_second': 583.868, 'eval_steps_per_second': 11.677, 'epoch': 4.0}\n",
      "{'loss': 0.0034, 'grad_norm': 0.06378491222858429, 'learning_rate': 3.4883720930232564e-06, 'epoch': 4.12}\n"
     ]
    },
    {
     "data": {
      "application/vnd.jupyter.widget-view+json": {
       "model_id": "77a80f06e56d45d288de6b86c85d3389",
       "version_major": 2,
       "version_minor": 0
      },
      "text/plain": [
       "  0%|          | 0/4 [00:00<?, ?it/s]"
      ]
     },
     "metadata": {},
     "output_type": "display_data"
    },
    {
     "name": "stdout",
     "output_type": "stream",
     "text": [
      "{'eval_loss': 0.012147814966738224, 'eval_accuracy': 0.99, 'eval_runtime': 0.3441, 'eval_samples_per_second': 581.277, 'eval_steps_per_second': 11.626, 'epoch': 4.12}\n",
      "{'loss': 0.0033, 'grad_norm': 0.06591153144836426, 'learning_rate': 3.2558139534883724e-06, 'epoch': 4.25}\n"
     ]
    },
    {
     "data": {
      "application/vnd.jupyter.widget-view+json": {
       "model_id": "e2c95625dec340529072ef3349cd6a11",
       "version_major": 2,
       "version_minor": 0
      },
      "text/plain": [
       "  0%|          | 0/4 [00:00<?, ?it/s]"
      ]
     },
     "metadata": {},
     "output_type": "display_data"
    },
    {
     "name": "stdout",
     "output_type": "stream",
     "text": [
      "{'eval_loss': 0.011665292084217072, 'eval_accuracy': 0.99, 'eval_runtime': 0.3426, 'eval_samples_per_second': 583.821, 'eval_steps_per_second': 11.676, 'epoch': 4.25}\n",
      "{'loss': 0.0048, 'grad_norm': 0.1402503103017807, 'learning_rate': 3.0232558139534885e-06, 'epoch': 4.38}\n"
     ]
    },
    {
     "data": {
      "application/vnd.jupyter.widget-view+json": {
       "model_id": "f7828ba170e441798114d1487cc44da0",
       "version_major": 2,
       "version_minor": 0
      },
      "text/plain": [
       "  0%|          | 0/4 [00:00<?, ?it/s]"
      ]
     },
     "metadata": {},
     "output_type": "display_data"
    },
    {
     "name": "stdout",
     "output_type": "stream",
     "text": [
      "{'eval_loss': 0.01201527751982212, 'eval_accuracy': 0.99, 'eval_runtime': 0.3445, 'eval_samples_per_second': 580.475, 'eval_steps_per_second': 11.61, 'epoch': 4.38}\n",
      "{'loss': 0.0031, 'grad_norm': 0.059944264590740204, 'learning_rate': 2.790697674418605e-06, 'epoch': 4.5}\n"
     ]
    },
    {
     "data": {
      "application/vnd.jupyter.widget-view+json": {
       "model_id": "24501b02d2ba4103ad208361805c0ded",
       "version_major": 2,
       "version_minor": 0
      },
      "text/plain": [
       "  0%|          | 0/4 [00:00<?, ?it/s]"
      ]
     },
     "metadata": {},
     "output_type": "display_data"
    },
    {
     "name": "stdout",
     "output_type": "stream",
     "text": [
      "{'eval_loss': 0.012505818158388138, 'eval_accuracy': 0.99, 'eval_runtime': 0.3414, 'eval_samples_per_second': 585.863, 'eval_steps_per_second': 11.717, 'epoch': 4.5}\n",
      "{'loss': 0.0032, 'grad_norm': 0.05830724164843559, 'learning_rate': 2.558139534883721e-06, 'epoch': 4.62}\n"
     ]
    },
    {
     "data": {
      "application/vnd.jupyter.widget-view+json": {
       "model_id": "714eb7a2caf64bcbbdaeac797a6dafcd",
       "version_major": 2,
       "version_minor": 0
      },
      "text/plain": [
       "  0%|          | 0/4 [00:00<?, ?it/s]"
      ]
     },
     "metadata": {},
     "output_type": "display_data"
    },
    {
     "name": "stdout",
     "output_type": "stream",
     "text": [
      "{'eval_loss': 0.012643206864595413, 'eval_accuracy': 0.99, 'eval_runtime': 0.3383, 'eval_samples_per_second': 591.271, 'eval_steps_per_second': 11.825, 'epoch': 4.62}\n",
      "{'loss': 0.0032, 'grad_norm': 0.0748254731297493, 'learning_rate': 2.3255813953488376e-06, 'epoch': 4.75}\n"
     ]
    },
    {
     "data": {
      "application/vnd.jupyter.widget-view+json": {
       "model_id": "c055977c46304b98b8d0909385c6e90a",
       "version_major": 2,
       "version_minor": 0
      },
      "text/plain": [
       "  0%|          | 0/4 [00:00<?, ?it/s]"
      ]
     },
     "metadata": {},
     "output_type": "display_data"
    },
    {
     "name": "stdout",
     "output_type": "stream",
     "text": [
      "{'eval_loss': 0.012545422650873661, 'eval_accuracy': 0.99, 'eval_runtime': 0.3391, 'eval_samples_per_second': 589.832, 'eval_steps_per_second': 11.797, 'epoch': 4.75}\n",
      "{'loss': 0.0029, 'grad_norm': 0.06579551845788956, 'learning_rate': 2.0930232558139536e-06, 'epoch': 4.88}\n"
     ]
    },
    {
     "data": {
      "application/vnd.jupyter.widget-view+json": {
       "model_id": "badfba59be844d82a6ec74125479a84f",
       "version_major": 2,
       "version_minor": 0
      },
      "text/plain": [
       "  0%|          | 0/4 [00:00<?, ?it/s]"
      ]
     },
     "metadata": {},
     "output_type": "display_data"
    },
    {
     "name": "stdout",
     "output_type": "stream",
     "text": [
      "{'eval_loss': 0.012324976734817028, 'eval_accuracy': 0.99, 'eval_runtime': 0.3376, 'eval_samples_per_second': 592.505, 'eval_steps_per_second': 11.85, 'epoch': 4.88}\n",
      "{'loss': 0.0028, 'grad_norm': 0.06029514595866203, 'learning_rate': 1.86046511627907e-06, 'epoch': 5.0}\n"
     ]
    },
    {
     "data": {
      "application/vnd.jupyter.widget-view+json": {
       "model_id": "336feddf38d1450b84a0a9d91b6319d2",
       "version_major": 2,
       "version_minor": 0
      },
      "text/plain": [
       "  0%|          | 0/4 [00:00<?, ?it/s]"
      ]
     },
     "metadata": {},
     "output_type": "display_data"
    },
    {
     "name": "stdout",
     "output_type": "stream",
     "text": [
      "{'eval_loss': 0.01218625158071518, 'eval_accuracy': 0.99, 'eval_runtime': 0.3373, 'eval_samples_per_second': 592.891, 'eval_steps_per_second': 11.858, 'epoch': 5.0}\n",
      "{'loss': 0.0027, 'grad_norm': 0.060297731310129166, 'learning_rate': 1.6279069767441862e-06, 'epoch': 5.12}\n"
     ]
    },
    {
     "data": {
      "application/vnd.jupyter.widget-view+json": {
       "model_id": "40ae499783a74173a2c0fd99c9e9c9c6",
       "version_major": 2,
       "version_minor": 0
      },
      "text/plain": [
       "  0%|          | 0/4 [00:00<?, ?it/s]"
      ]
     },
     "metadata": {},
     "output_type": "display_data"
    },
    {
     "name": "stdout",
     "output_type": "stream",
     "text": [
      "{'eval_loss': 0.012126610614359379, 'eval_accuracy': 0.99, 'eval_runtime': 0.3402, 'eval_samples_per_second': 587.847, 'eval_steps_per_second': 11.757, 'epoch': 5.12}\n",
      "{'loss': 0.0028, 'grad_norm': 0.06057797372341156, 'learning_rate': 1.3953488372093025e-06, 'epoch': 5.25}\n"
     ]
    },
    {
     "data": {
      "application/vnd.jupyter.widget-view+json": {
       "model_id": "7856a83a338049dc95f59c00907c9ee6",
       "version_major": 2,
       "version_minor": 0
      },
      "text/plain": [
       "  0%|          | 0/4 [00:00<?, ?it/s]"
      ]
     },
     "metadata": {},
     "output_type": "display_data"
    },
    {
     "name": "stdout",
     "output_type": "stream",
     "text": [
      "{'eval_loss': 0.01205923780798912, 'eval_accuracy': 0.99, 'eval_runtime': 0.3374, 'eval_samples_per_second': 592.764, 'eval_steps_per_second': 11.855, 'epoch': 5.25}\n",
      "{'loss': 0.0032, 'grad_norm': 0.0661676898598671, 'learning_rate': 1.1627906976744188e-06, 'epoch': 5.38}\n"
     ]
    },
    {
     "data": {
      "application/vnd.jupyter.widget-view+json": {
       "model_id": "384acb3752cd45b7bc13d8650341f488",
       "version_major": 2,
       "version_minor": 0
      },
      "text/plain": [
       "  0%|          | 0/4 [00:00<?, ?it/s]"
      ]
     },
     "metadata": {},
     "output_type": "display_data"
    },
    {
     "name": "stdout",
     "output_type": "stream",
     "text": [
      "{'eval_loss': 0.01201004721224308, 'eval_accuracy': 0.99, 'eval_runtime': 0.3332, 'eval_samples_per_second': 600.237, 'eval_steps_per_second': 12.005, 'epoch': 5.38}\n",
      "{'loss': 0.0026, 'grad_norm': 0.05748872458934784, 'learning_rate': 9.30232558139535e-07, 'epoch': 5.5}\n"
     ]
    },
    {
     "data": {
      "application/vnd.jupyter.widget-view+json": {
       "model_id": "dae1c8cc57474843b7c0d60f893ee10c",
       "version_major": 2,
       "version_minor": 0
      },
      "text/plain": [
       "  0%|          | 0/4 [00:00<?, ?it/s]"
      ]
     },
     "metadata": {},
     "output_type": "display_data"
    },
    {
     "name": "stdout",
     "output_type": "stream",
     "text": [
      "{'eval_loss': 0.01194709911942482, 'eval_accuracy': 0.99, 'eval_runtime': 0.336, 'eval_samples_per_second': 595.29, 'eval_steps_per_second': 11.906, 'epoch': 5.5}\n",
      "{'loss': 0.0027, 'grad_norm': 0.06563560664653778, 'learning_rate': 6.976744186046513e-07, 'epoch': 5.62}\n"
     ]
    },
    {
     "data": {
      "application/vnd.jupyter.widget-view+json": {
       "model_id": "4c654f700d75410ea265725649307dd0",
       "version_major": 2,
       "version_minor": 0
      },
      "text/plain": [
       "  0%|          | 0/4 [00:00<?, ?it/s]"
      ]
     },
     "metadata": {},
     "output_type": "display_data"
    },
    {
     "name": "stdout",
     "output_type": "stream",
     "text": [
      "{'eval_loss': 0.011891257017850876, 'eval_accuracy': 0.99, 'eval_runtime': 0.3515, 'eval_samples_per_second': 569.051, 'eval_steps_per_second': 11.381, 'epoch': 5.62}\n",
      "{'loss': 0.0025, 'grad_norm': 0.05006970092654228, 'learning_rate': 4.651162790697675e-07, 'epoch': 5.75}\n"
     ]
    },
    {
     "data": {
      "application/vnd.jupyter.widget-view+json": {
       "model_id": "6e09155434ee4655b2ddd236e69d6c72",
       "version_major": 2,
       "version_minor": 0
      },
      "text/plain": [
       "  0%|          | 0/4 [00:00<?, ?it/s]"
      ]
     },
     "metadata": {},
     "output_type": "display_data"
    },
    {
     "name": "stdout",
     "output_type": "stream",
     "text": [
      "{'eval_loss': 0.011846031993627548, 'eval_accuracy': 0.99, 'eval_runtime': 0.3488, 'eval_samples_per_second': 573.388, 'eval_steps_per_second': 11.468, 'epoch': 5.75}\n",
      "{'loss': 0.0023, 'grad_norm': 0.05112167447805405, 'learning_rate': 2.3255813953488374e-07, 'epoch': 5.88}\n"
     ]
    },
    {
     "data": {
      "application/vnd.jupyter.widget-view+json": {
       "model_id": "405db48dc3e045328d5f642bca26d8ae",
       "version_major": 2,
       "version_minor": 0
      },
      "text/plain": [
       "  0%|          | 0/4 [00:00<?, ?it/s]"
      ]
     },
     "metadata": {},
     "output_type": "display_data"
    },
    {
     "name": "stdout",
     "output_type": "stream",
     "text": [
      "{'eval_loss': 0.011821911670267582, 'eval_accuracy': 0.99, 'eval_runtime': 0.3399, 'eval_samples_per_second': 588.391, 'eval_steps_per_second': 11.768, 'epoch': 5.88}\n",
      "{'loss': 0.0026, 'grad_norm': 0.0867215022444725, 'learning_rate': 0.0, 'epoch': 6.0}\n"
     ]
    },
    {
     "data": {
      "application/vnd.jupyter.widget-view+json": {
       "model_id": "8992000deefd484b81386e233f4adb3f",
       "version_major": 2,
       "version_minor": 0
      },
      "text/plain": [
       "  0%|          | 0/4 [00:00<?, ?it/s]"
      ]
     },
     "metadata": {},
     "output_type": "display_data"
    },
    {
     "name": "stdout",
     "output_type": "stream",
     "text": [
      "{'eval_loss': 0.011811017990112305, 'eval_accuracy': 0.99, 'eval_runtime': 0.335, 'eval_samples_per_second': 597.008, 'eval_steps_per_second': 11.94, 'epoch': 6.0}\n",
      "{'train_runtime': 109.1139, 'train_samples_per_second': 87.981, 'train_steps_per_second': 1.76, 'train_loss': 0.13665436631223807, 'epoch': 6.0}\n"
     ]
    },
    {
     "data": {
      "text/plain": [
       "TrainOutput(global_step=192, training_loss=0.13665436631223807, metrics={'train_runtime': 109.1139, 'train_samples_per_second': 87.981, 'train_steps_per_second': 1.76, 'total_flos': 282002612595600.0, 'train_loss': 0.13665436631223807, 'epoch': 6.0})"
      ]
     },
     "execution_count": 2,
     "metadata": {},
     "output_type": "execute_result"
    }
   ],
   "source": [
    "training_args = TrainingArguments(\n",
    "    output_dir=output_dir,\n",
    "    evaluation_strategy=\"steps\",\n",
    "    save_strategy=\"steps\",\n",
    "    eval_steps=0.02,\n",
    "    save_steps=0.02,\n",
    "    logging_steps=0.02,\n",
    "    save_total_limit=2,\n",
    "    learning_rate=1e-5,\n",
    "    per_device_train_batch_size=50, # 显存占用约5217MiB\n",
    "    per_device_eval_batch_size=50,\n",
    "    num_train_epochs=6, \n",
    "    weight_decay=0.01,\n",
    "    warmup_ratio=0.1,\n",
    "    load_best_model_at_end=True,\n",
    "    metric_for_best_model=\"accuracy\",\n",
    "    push_to_hub=False,\n",
    ")\n",
    "\n",
    "trainer = Trainer(\n",
    "    model=model,\n",
    "    args=training_args,\n",
    "    train_dataset=tokenized[\"train\"],\n",
    "    eval_dataset=tokenized[\"validation\"],\n",
    "    tokenizer=tokenizer,\n",
    "    data_collator=data_collator,\n",
    "    compute_metrics=compute_metrics,\n",
    ")\n",
    "\n",
    "trainer.train()"
   ]
  },
  {
   "cell_type": "code",
   "execution_count": 3,
   "metadata": {},
   "outputs": [
    {
     "data": {
      "application/vnd.jupyter.widget-view+json": {
       "model_id": "8edb7e069f594caf82ec06c21528f562",
       "version_major": 2,
       "version_minor": 0
      },
      "text/plain": [
       "  0%|          | 0/4 [00:00<?, ?it/s]"
      ]
     },
     "metadata": {},
     "output_type": "display_data"
    },
    {
     "name": "stdout",
     "output_type": "stream",
     "text": [
      "Confusion Matrix:\n",
      "[[101   0]\n",
      " [  1  98]]\n"
     ]
    },
    {
     "data": {
      "image/png": "[encoded data removed]",
      "text/plain": [
       "<Figure size 1000x700 with 2 Axes>"
      ]
     },
     "metadata": {},
     "output_type": "display_data"
    }
   ],
   "source": [
    "predictions = trainer.predict(tokenized[\"test\"]).predictions\n",
    "predictions = np.argmax(predictions, axis=1)\n",
    "true_labels = tokenized[\"test\"][\"label\"]\n",
    "\n",
    "# 计算混淆矩阵\n",
    "cm = confusion_matrix(true_labels, predictions)\n",
    "\n",
    "# 打印混淆矩阵\n",
    "print(\"Confusion Matrix:\")\n",
    "print(cm)\n",
    "\n",
    "# 使用seaborn绘制混淆矩阵的热力图\n",
    "plt.figure(figsize=(10, 7))\n",
    "sns.heatmap(cm, annot=True, fmt=\"d\")\n",
    "plt.title(\"Confusion Matrix\")\n",
    "plt.xlabel(\"Predicted\")\n",
    "plt.ylabel(\"True\")\n",
    "plt.show()\n"
   ]
  },
  {
   "cell_type": "code",
   "execution_count": 4,
   "metadata": {},
   "outputs": [
    {
     "data": {
      "application/vnd.jupyter.widget-view+json": {
       "model_id": "7fc4a62cc8ee47a78bf596e6dda30e0a",
       "version_major": 2,
       "version_minor": 0
      },
      "text/plain": [
       "  0%|          | 0/4 [00:00<?, ?it/s]"
      ]
     },
     "metadata": {},
     "output_type": "display_data"
    },
    {
     "name": "stdout",
     "output_type": "stream",
     "text": [
      "Confusion Matrix:\n",
      "[[101   0]\n",
      " [  1  98]]\n",
      "True Label: 1, Predicted Label: 0, Text: 生态环境建设行业的上游是什么行业？\n"
     ]
    }
   ],
   "source": [
    "from sklearn.metrics import confusion_matrix\n",
    "import pandas as pd\n",
    "# 加载测试数据\n",
    "test_data = pd.read_parquet(\"./datasets/FinQuestions_v2/test.parquet\")\n",
    "\n",
    "# 预测\n",
    "predictions = trainer.predict(tokenized[\"test\"]).predictions\n",
    "predictions = np.argmax(predictions, axis=1)\n",
    "true_labels = test_data[\"label\"]\n",
    "\n",
    "# 计算混淆矩阵\n",
    "cm = confusion_matrix(true_labels, predictions)\n",
    "\n",
    "# 打印混淆矩阵\n",
    "print(\"Confusion Matrix:\")\n",
    "print(cm)\n",
    "\n",
    "# 找出预测错误的案例\n",
    "wrong_predictions = test_data[predictions != true_labels]\n",
    "\n",
    "# 打印预测错误的案例\n",
    "for index, row in wrong_predictions.iterrows():\n",
    "    print(f\"True Label: {row['label']}, Predicted Label: {predictions[index]}, Text: {row['text']}\")"
   ]
  },
  {
   "cell_type": "code",
   "execution_count": 5,
   "metadata": {},
   "outputs": [],
   "source": [
    "text = \"2024年3月18日基金走势如何？\"\n",
    "\n",
    "# classifier = pipeline(\"sentiment-analysis\", model=output_dir+\"/checkpoint-75\")\n",
    "# classifier(text)"
   ]
  }
 ],
 "metadata": {
  "kernelspec": {
   "display_name": ".venv",
   "language": "python",
   "name": "python3"
  },
  "language_info": {
   "codemirror_mode": {
    "name": "ipython",
    "version": 3
   },
   "file_extension": ".py",
   "mimetype": "text/x-python",
   "name": "python",
   "nbconvert_exporter": "python",
   "pygments_lexer": "ipython3",
   "version": "3.11.9"
  }
 },
 "nbformat": 4,
 "nbformat_minor": 2
}
