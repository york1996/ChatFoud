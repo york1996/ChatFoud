{
 "cells": [
  {
   "cell_type": "code",
   "execution_count": 1,
   "metadata": {},
   "outputs": [],
   "source": [
    "import datasets\n",
    "from datasets import load_dataset\n",
    "from pathlib import Path\n",
    "from transformers import AutoTokenizer, DataCollatorWithPadding, AutoModelForSequenceClassification, TrainingArguments, Trainer, pipeline\n",
    "import evaluate\n",
    "import numpy as np\n",
    "from sklearn.metrics import confusion_matrix\n",
    "import seaborn as sns\n",
    "import matplotlib.pyplot as plt\n",
    "\n",
    "data_dir = \"./datasets/FinQuestions_v2\"\n",
    "token_dir = \"./tokenizers/\"\n",
    "model_dir = \"./models/\"\n",
    "model_name = \"thenlper/gte-small-zh\"  # ~61MB\n",
    "output_dir=\"./finetune_tiny_v2\"\n",
    "\n",
    "finq = load_dataset(\"parquet\", data_dir=data_dir)\n",
    "\n",
    "# 下面两行代码只需首次运行\n",
    "# tokenizer = AutoTokenizer.from_pretrained(model_name)\n",
    "# tokenizer.save_pretrained(token_dir+model_name)\n",
    "\n",
    "tokenizer = AutoTokenizer.from_pretrained(token_dir+model_name)\n",
    "\n",
    "def preprocess_function(examples):\n",
    "    return tokenizer(examples[\"text\"], truncation=True)\n",
    "\n",
    "tokenized = finq.map(preprocess_function, batched=True)\n",
    "\n",
    "data_collator = DataCollatorWithPadding(tokenizer=tokenizer)\n",
    "\n",
    "accuracy = evaluate.load(\"accuracy\")\n",
    "\n",
    "def compute_metrics(eval_pred):\n",
    "    predictions, labels = eval_pred\n",
    "    predictions = np.argmax(predictions, axis=1)\n",
    "    return accuracy.compute(predictions=predictions, references=labels)\n",
    "\n",
    "id2label = {0: \"FALSE\", 1: \"TRUE\"}\n",
    "label2id = {\"FALSE\": 0, \"TRUE\": 1}\n",
    "\n",
    "# 下面两行代码只需首次运行\n",
    "# model = AutoModelForSequenceClassification.from_pretrained( model_name, num_labels=2, id2label=id2label, label2id=label2id)\n",
    "# model.save_pretrained(model_dir+model_name)\n",
    "\n",
    "model = AutoModelForSequenceClassification.from_pretrained(\n",
    "    model_dir+model_name, \n",
    "    num_labels=2, \n",
    "    id2label=id2label, \n",
    "    label2id=label2id\n",
    ")"
   ]
  },
  {
   "cell_type": "code",
   "execution_count": 2,
   "metadata": {},
   "outputs": [
    {
     "data": {
      "application/vnd.jupyter.widget-view+json": {
       "model_id": "2216e03aa4ef4f16b5624f37fc12dc12",
       "version_major": 2,
       "version_minor": 0
      },
      "text/plain": [
       "  0%|          | 0/160 [00:00<?, ?it/s]"
      ]
     },
     "metadata": {},
     "output_type": "display_data"
    },
    {
     "name": "stdout",
     "output_type": "stream",
     "text": [
      "{'loss': 0.6911, 'grad_norm': 1.1173431873321533, 'learning_rate': 5e-06, 'epoch': 0.25}\n"
     ]
    },
    {
     "data": {
      "application/vnd.jupyter.widget-view+json": {
       "model_id": "6aba7ad6721840ceaa5b0458e97bca8e",
       "version_major": 2,
       "version_minor": 0
      },
      "text/plain": [
       "  0%|          | 0/2 [00:00<?, ?it/s]"
      ]
     },
     "metadata": {},
     "output_type": "display_data"
    },
    {
     "name": "stdout",
     "output_type": "stream",
     "text": [
      "{'eval_loss': 0.6913236975669861, 'eval_accuracy': 0.495, 'eval_runtime': 0.1642, 'eval_samples_per_second': 1217.924, 'eval_steps_per_second': 12.179, 'epoch': 0.25}\n",
      "{'loss': 0.6855, 'grad_norm': 1.059899926185608, 'learning_rate': 1e-05, 'epoch': 0.5}\n"
     ]
    },
    {
     "data": {
      "application/vnd.jupyter.widget-view+json": {
       "model_id": "36104a7a0781400c968d2317db1145cf",
       "version_major": 2,
       "version_minor": 0
      },
      "text/plain": [
       "  0%|          | 0/2 [00:00<?, ?it/s]"
      ]
     },
     "metadata": {},
     "output_type": "display_data"
    },
    {
     "name": "stdout",
     "output_type": "stream",
     "text": [
      "{'eval_loss': 0.6752400398254395, 'eval_accuracy': 0.665, 'eval_runtime': 0.158, 'eval_samples_per_second': 1265.494, 'eval_steps_per_second': 12.655, 'epoch': 0.5}\n",
      "{'loss': 0.6637, 'grad_norm': 0.7976553440093994, 'learning_rate': 1.5000000000000002e-05, 'epoch': 0.75}\n"
     ]
    },
    {
     "data": {
      "application/vnd.jupyter.widget-view+json": {
       "model_id": "150231b8916f4a299fbdf0053c6273af",
       "version_major": 2,
       "version_minor": 0
      },
      "text/plain": [
       "  0%|          | 0/2 [00:00<?, ?it/s]"
      ]
     },
     "metadata": {},
     "output_type": "display_data"
    },
    {
     "name": "stdout",
     "output_type": "stream",
     "text": [
      "{'eval_loss': 0.6495547294616699, 'eval_accuracy': 0.83, 'eval_runtime': 0.163, 'eval_samples_per_second': 1227.011, 'eval_steps_per_second': 12.27, 'epoch': 0.75}\n",
      "{'loss': 0.6348, 'grad_norm': 0.8992984890937805, 'learning_rate': 2e-05, 'epoch': 1.0}\n"
     ]
    },
    {
     "data": {
      "application/vnd.jupyter.widget-view+json": {
       "model_id": "d9c72cb9490449368923038872c87b7e",
       "version_major": 2,
       "version_minor": 0
      },
      "text/plain": [
       "  0%|          | 0/2 [00:00<?, ?it/s]"
      ]
     },
     "metadata": {},
     "output_type": "display_data"
    },
    {
     "name": "stdout",
     "output_type": "stream",
     "text": [
      "{'eval_loss': 0.6129970550537109, 'eval_accuracy': 0.9, 'eval_runtime': 0.1626, 'eval_samples_per_second': 1229.635, 'eval_steps_per_second': 12.296, 'epoch': 1.0}\n",
      "{'loss': 0.5956, 'grad_norm': 0.9219701290130615, 'learning_rate': 1.9444444444444445e-05, 'epoch': 1.25}\n"
     ]
    },
    {
     "data": {
      "application/vnd.jupyter.widget-view+json": {
       "model_id": "4f0c51c58ef047e9a76aa885729935ef",
       "version_major": 2,
       "version_minor": 0
      },
      "text/plain": [
       "  0%|          | 0/2 [00:00<?, ?it/s]"
      ]
     },
     "metadata": {},
     "output_type": "display_data"
    },
    {
     "name": "stdout",
     "output_type": "stream",
     "text": [
      "{'eval_loss': 0.5635880827903748, 'eval_accuracy': 0.925, 'eval_runtime': 0.1542, 'eval_samples_per_second': 1297.377, 'eval_steps_per_second': 12.974, 'epoch': 1.25}\n",
      "{'loss': 0.5404, 'grad_norm': 1.161108136177063, 'learning_rate': 1.888888888888889e-05, 'epoch': 1.5}\n"
     ]
    },
    {
     "data": {
      "application/vnd.jupyter.widget-view+json": {
       "model_id": "6c897403c7984b34b0e457007dba0653",
       "version_major": 2,
       "version_minor": 0
      },
      "text/plain": [
       "  0%|          | 0/2 [00:00<?, ?it/s]"
      ]
     },
     "metadata": {},
     "output_type": "display_data"
    },
    {
     "name": "stdout",
     "output_type": "stream",
     "text": [
      "{'eval_loss': 0.504259467124939, 'eval_accuracy': 0.955, 'eval_runtime': 0.1591, 'eval_samples_per_second': 1257.461, 'eval_steps_per_second': 12.575, 'epoch': 1.5}\n",
      "{'loss': 0.4768, 'grad_norm': 1.3154243230819702, 'learning_rate': 1.8333333333333333e-05, 'epoch': 1.75}\n"
     ]
    },
    {
     "data": {
      "application/vnd.jupyter.widget-view+json": {
       "model_id": "36e75282a89c472e80e58c066eed5c92",
       "version_major": 2,
       "version_minor": 0
      },
      "text/plain": [
       "  0%|          | 0/2 [00:00<?, ?it/s]"
      ]
     },
     "metadata": {},
     "output_type": "display_data"
    },
    {
     "name": "stdout",
     "output_type": "stream",
     "text": [
      "{'eval_loss': 0.4337664842605591, 'eval_accuracy': 0.965, 'eval_runtime': 0.155, 'eval_samples_per_second': 1290.374, 'eval_steps_per_second': 12.904, 'epoch': 1.75}\n",
      "{'loss': 0.4106, 'grad_norm': 1.4735851287841797, 'learning_rate': 1.7777777777777777e-05, 'epoch': 2.0}\n"
     ]
    },
    {
     "data": {
      "application/vnd.jupyter.widget-view+json": {
       "model_id": "c0acc3d2cbba4cb89a480d25afb3d0e3",
       "version_major": 2,
       "version_minor": 0
      },
      "text/plain": [
       "  0%|          | 0/2 [00:00<?, ?it/s]"
      ]
     },
     "metadata": {},
     "output_type": "display_data"
    },
    {
     "name": "stdout",
     "output_type": "stream",
     "text": [
      "{'eval_loss': 0.35731345415115356, 'eval_accuracy': 0.97, 'eval_runtime': 0.1574, 'eval_samples_per_second': 1270.453, 'eval_steps_per_second': 12.705, 'epoch': 2.0}\n",
      "{'loss': 0.3362, 'grad_norm': 1.718516230583191, 'learning_rate': 1.7222222222222224e-05, 'epoch': 2.25}\n"
     ]
    },
    {
     "data": {
      "application/vnd.jupyter.widget-view+json": {
       "model_id": "2c0c52732fa745e5ae0ec30de96a0d64",
       "version_major": 2,
       "version_minor": 0
      },
      "text/plain": [
       "  0%|          | 0/2 [00:00<?, ?it/s]"
      ]
     },
     "metadata": {},
     "output_type": "display_data"
    },
    {
     "name": "stdout",
     "output_type": "stream",
     "text": [
      "{'eval_loss': 0.2856139838695526, 'eval_accuracy': 0.98, 'eval_runtime': 0.1614, 'eval_samples_per_second': 1238.979, 'eval_steps_per_second': 12.39, 'epoch': 2.25}\n",
      "{'loss': 0.2593, 'grad_norm': 1.2494384050369263, 'learning_rate': 1.6666666666666667e-05, 'epoch': 2.5}\n"
     ]
    },
    {
     "data": {
      "application/vnd.jupyter.widget-view+json": {
       "model_id": "02fec193d09d497bb09bcbdfbf32442b",
       "version_major": 2,
       "version_minor": 0
      },
      "text/plain": [
       "  0%|          | 0/2 [00:00<?, ?it/s]"
      ]
     },
     "metadata": {},
     "output_type": "display_data"
    },
    {
     "name": "stdout",
     "output_type": "stream",
     "text": [
      "{'eval_loss': 0.224954754114151, 'eval_accuracy': 0.985, 'eval_runtime': 0.1576, 'eval_samples_per_second': 1268.871, 'eval_steps_per_second': 12.689, 'epoch': 2.5}\n",
      "{'loss': 0.2061, 'grad_norm': 1.2205301523208618, 'learning_rate': 1.6111111111111115e-05, 'epoch': 2.75}\n"
     ]
    },
    {
     "data": {
      "application/vnd.jupyter.widget-view+json": {
       "model_id": "b04f94cd2eda4aa581b1c08440ce4d19",
       "version_major": 2,
       "version_minor": 0
      },
      "text/plain": [
       "  0%|          | 0/2 [00:00<?, ?it/s]"
      ]
     },
     "metadata": {},
     "output_type": "display_data"
    },
    {
     "name": "stdout",
     "output_type": "stream",
     "text": [
      "{'eval_loss': 0.1762772798538208, 'eval_accuracy': 0.985, 'eval_runtime': 0.1531, 'eval_samples_per_second': 1306.391, 'eval_steps_per_second': 13.064, 'epoch': 2.75}\n",
      "{'loss': 0.1592, 'grad_norm': 1.0529454946517944, 'learning_rate': 1.555555555555556e-05, 'epoch': 3.0}\n"
     ]
    },
    {
     "data": {
      "application/vnd.jupyter.widget-view+json": {
       "model_id": "10a541fa875b42d28a6db94ddbbb6230",
       "version_major": 2,
       "version_minor": 0
      },
      "text/plain": [
       "  0%|          | 0/2 [00:00<?, ?it/s]"
      ]
     },
     "metadata": {},
     "output_type": "display_data"
    },
    {
     "name": "stdout",
     "output_type": "stream",
     "text": [
      "{'eval_loss': 0.13866661489009857, 'eval_accuracy': 0.99, 'eval_runtime': 0.157, 'eval_samples_per_second': 1273.78, 'eval_steps_per_second': 12.738, 'epoch': 3.0}\n",
      "{'loss': 0.1226, 'grad_norm': 0.9339097142219543, 'learning_rate': 1.5000000000000002e-05, 'epoch': 3.25}\n"
     ]
    },
    {
     "data": {
      "application/vnd.jupyter.widget-view+json": {
       "model_id": "d1347301a78f4b44a6e107bb115c1759",
       "version_major": 2,
       "version_minor": 0
      },
      "text/plain": [
       "  0%|          | 0/2 [00:00<?, ?it/s]"
      ]
     },
     "metadata": {},
     "output_type": "display_data"
    },
    {
     "name": "stdout",
     "output_type": "stream",
     "text": [
      "{'eval_loss': 0.11030963808298111, 'eval_accuracy': 0.99, 'eval_runtime': 0.1568, 'eval_samples_per_second': 1275.898, 'eval_steps_per_second': 12.759, 'epoch': 3.25}\n",
      "{'loss': 0.0983, 'grad_norm': 0.7418354749679565, 'learning_rate': 1.4444444444444446e-05, 'epoch': 3.5}\n"
     ]
    },
    {
     "data": {
      "application/vnd.jupyter.widget-view+json": {
       "model_id": "262dca2401a440aba96d4c1c167b1779",
       "version_major": 2,
       "version_minor": 0
      },
      "text/plain": [
       "  0%|          | 0/2 [00:00<?, ?it/s]"
      ]
     },
     "metadata": {},
     "output_type": "display_data"
    },
    {
     "name": "stdout",
     "output_type": "stream",
     "text": [
      "{'eval_loss': 0.09214469790458679, 'eval_accuracy': 0.99, 'eval_runtime': 0.1535, 'eval_samples_per_second': 1302.897, 'eval_steps_per_second': 13.029, 'epoch': 3.5}\n",
      "{'loss': 0.0823, 'grad_norm': 0.582785964012146, 'learning_rate': 1.388888888888889e-05, 'epoch': 3.75}\n"
     ]
    },
    {
     "data": {
      "application/vnd.jupyter.widget-view+json": {
       "model_id": "7a8aa5006dea452b8ec4ffd12db07f4c",
       "version_major": 2,
       "version_minor": 0
      },
      "text/plain": [
       "  0%|          | 0/2 [00:00<?, ?it/s]"
      ]
     },
     "metadata": {},
     "output_type": "display_data"
    },
    {
     "name": "stdout",
     "output_type": "stream",
     "text": [
      "{'eval_loss': 0.0764467790722847, 'eval_accuracy': 0.99, 'eval_runtime': 0.1533, 'eval_samples_per_second': 1304.272, 'eval_steps_per_second': 13.043, 'epoch': 3.75}\n",
      "{'loss': 0.0602, 'grad_norm': 0.5494557023048401, 'learning_rate': 1.3333333333333333e-05, 'epoch': 4.0}\n"
     ]
    },
    {
     "data": {
      "application/vnd.jupyter.widget-view+json": {
       "model_id": "878ebb7f3cb44434b5e36406e3dfa27c",
       "version_major": 2,
       "version_minor": 0
      },
      "text/plain": [
       "  0%|          | 0/2 [00:00<?, ?it/s]"
      ]
     },
     "metadata": {},
     "output_type": "display_data"
    },
    {
     "name": "stdout",
     "output_type": "stream",
     "text": [
      "{'eval_loss': 0.06473441421985626, 'eval_accuracy': 0.99, 'eval_runtime': 0.1547, 'eval_samples_per_second': 1292.976, 'eval_steps_per_second': 12.93, 'epoch': 4.0}\n",
      "{'loss': 0.0487, 'grad_norm': 0.47375839948654175, 'learning_rate': 1.2777777777777777e-05, 'epoch': 4.25}\n"
     ]
    },
    {
     "data": {
      "application/vnd.jupyter.widget-view+json": {
       "model_id": "a41323d3b0d342f7b0ab7988770853b1",
       "version_major": 2,
       "version_minor": 0
      },
      "text/plain": [
       "  0%|          | 0/2 [00:00<?, ?it/s]"
      ]
     },
     "metadata": {},
     "output_type": "display_data"
    },
    {
     "name": "stdout",
     "output_type": "stream",
     "text": [
      "{'eval_loss': 0.05692905932664871, 'eval_accuracy': 0.99, 'eval_runtime': 0.1509, 'eval_samples_per_second': 1325.791, 'eval_steps_per_second': 13.258, 'epoch': 4.25}\n",
      "{'loss': 0.047, 'grad_norm': 0.42239782214164734, 'learning_rate': 1.2222222222222224e-05, 'epoch': 4.5}\n"
     ]
    },
    {
     "data": {
      "application/vnd.jupyter.widget-view+json": {
       "model_id": "d27a0f264e9f45d497304ebca8c04dd3",
       "version_major": 2,
       "version_minor": 0
      },
      "text/plain": [
       "  0%|          | 0/2 [00:00<?, ?it/s]"
      ]
     },
     "metadata": {},
     "output_type": "display_data"
    },
    {
     "name": "stdout",
     "output_type": "stream",
     "text": [
      "{'eval_loss': 0.053523898124694824, 'eval_accuracy': 0.99, 'eval_runtime': 0.156, 'eval_samples_per_second': 1282.346, 'eval_steps_per_second': 12.823, 'epoch': 4.5}\n",
      "{'loss': 0.0386, 'grad_norm': 0.44772863388061523, 'learning_rate': 1.1666666666666668e-05, 'epoch': 4.75}\n"
     ]
    },
    {
     "data": {
      "application/vnd.jupyter.widget-view+json": {
       "model_id": "6cfa2321455143968c34b17432f043e1",
       "version_major": 2,
       "version_minor": 0
      },
      "text/plain": [
       "  0%|          | 0/2 [00:00<?, ?it/s]"
      ]
     },
     "metadata": {},
     "output_type": "display_data"
    },
    {
     "name": "stdout",
     "output_type": "stream",
     "text": [
      "{'eval_loss': 0.050940025597810745, 'eval_accuracy': 0.99, 'eval_runtime': 0.1575, 'eval_samples_per_second': 1269.61, 'eval_steps_per_second': 12.696, 'epoch': 4.75}\n",
      "{'loss': 0.0353, 'grad_norm': 0.32912084460258484, 'learning_rate': 1.1111111111111113e-05, 'epoch': 5.0}\n"
     ]
    },
    {
     "data": {
      "application/vnd.jupyter.widget-view+json": {
       "model_id": "ac6bd58959e644b38e569f882e970135",
       "version_major": 2,
       "version_minor": 0
      },
      "text/plain": [
       "  0%|          | 0/2 [00:00<?, ?it/s]"
      ]
     },
     "metadata": {},
     "output_type": "display_data"
    },
    {
     "name": "stdout",
     "output_type": "stream",
     "text": [
      "{'eval_loss': 0.04893800616264343, 'eval_accuracy': 0.99, 'eval_runtime': 0.153, 'eval_samples_per_second': 1307.301, 'eval_steps_per_second': 13.073, 'epoch': 5.0}\n",
      "{'loss': 0.031, 'grad_norm': 0.3100295066833496, 'learning_rate': 1.0555555555555557e-05, 'epoch': 5.25}\n"
     ]
    },
    {
     "data": {
      "application/vnd.jupyter.widget-view+json": {
       "model_id": "ac4325fa63334a2683dac0fe2799c0d0",
       "version_major": 2,
       "version_minor": 0
      },
      "text/plain": [
       "  0%|          | 0/2 [00:00<?, ?it/s]"
      ]
     },
     "metadata": {},
     "output_type": "display_data"
    },
    {
     "name": "stdout",
     "output_type": "stream",
     "text": [
      "{'eval_loss': 0.04903917759656906, 'eval_accuracy': 0.99, 'eval_runtime': 0.1528, 'eval_samples_per_second': 1308.483, 'eval_steps_per_second': 13.085, 'epoch': 5.25}\n",
      "{'loss': 0.0284, 'grad_norm': 0.31018608808517456, 'learning_rate': 1e-05, 'epoch': 5.5}\n"
     ]
    },
    {
     "data": {
      "application/vnd.jupyter.widget-view+json": {
       "model_id": "160b031f784347a1a2759f1a89f001e3",
       "version_major": 2,
       "version_minor": 0
      },
      "text/plain": [
       "  0%|          | 0/2 [00:00<?, ?it/s]"
      ]
     },
     "metadata": {},
     "output_type": "display_data"
    },
    {
     "name": "stdout",
     "output_type": "stream",
     "text": [
      "{'eval_loss': 0.04795065522193909, 'eval_accuracy': 0.99, 'eval_runtime': 0.1521, 'eval_samples_per_second': 1314.641, 'eval_steps_per_second': 13.146, 'epoch': 5.5}\n",
      "{'loss': 0.0251, 'grad_norm': 0.2813243865966797, 'learning_rate': 9.444444444444445e-06, 'epoch': 5.75}\n"
     ]
    },
    {
     "data": {
      "application/vnd.jupyter.widget-view+json": {
       "model_id": "eeffa86b536a4d4a93d9e2f0aabbcbc6",
       "version_major": 2,
       "version_minor": 0
      },
      "text/plain": [
       "  0%|          | 0/2 [00:00<?, ?it/s]"
      ]
     },
     "metadata": {},
     "output_type": "display_data"
    },
    {
     "name": "stdout",
     "output_type": "stream",
     "text": [
      "{'eval_loss': 0.046610306948423386, 'eval_accuracy': 0.99, 'eval_runtime': 0.1607, 'eval_samples_per_second': 1244.204, 'eval_steps_per_second': 12.442, 'epoch': 5.75}\n",
      "{'loss': 0.0243, 'grad_norm': 0.6711217761039734, 'learning_rate': 8.888888888888888e-06, 'epoch': 6.0}\n"
     ]
    },
    {
     "data": {
      "application/vnd.jupyter.widget-view+json": {
       "model_id": "a2827b5f610f48be8d3dfad9bb0338f2",
       "version_major": 2,
       "version_minor": 0
      },
      "text/plain": [
       "  0%|          | 0/2 [00:00<?, ?it/s]"
      ]
     },
     "metadata": {},
     "output_type": "display_data"
    },
    {
     "name": "stdout",
     "output_type": "stream",
     "text": [
      "{'eval_loss': 0.04450724646449089, 'eval_accuracy': 0.99, 'eval_runtime': 0.1536, 'eval_samples_per_second': 1302.009, 'eval_steps_per_second': 13.02, 'epoch': 6.0}\n",
      "{'loss': 0.0213, 'grad_norm': 0.25652381777763367, 'learning_rate': 8.333333333333334e-06, 'epoch': 6.25}\n"
     ]
    },
    {
     "data": {
      "application/vnd.jupyter.widget-view+json": {
       "model_id": "b5ecac2d9fea4c71b1768d3a3d65e3d4",
       "version_major": 2,
       "version_minor": 0
      },
      "text/plain": [
       "  0%|          | 0/2 [00:00<?, ?it/s]"
      ]
     },
     "metadata": {},
     "output_type": "display_data"
    },
    {
     "name": "stdout",
     "output_type": "stream",
     "text": [
      "{'eval_loss': 0.0412333682179451, 'eval_accuracy': 0.99, 'eval_runtime': 0.1623, 'eval_samples_per_second': 1231.992, 'eval_steps_per_second': 12.32, 'epoch': 6.25}\n",
      "{'loss': 0.0213, 'grad_norm': 0.32720014452934265, 'learning_rate': 7.77777777777778e-06, 'epoch': 6.5}\n"
     ]
    },
    {
     "data": {
      "application/vnd.jupyter.widget-view+json": {
       "model_id": "3d3dbb91c2ae4037b4a8d654a1535f25",
       "version_major": 2,
       "version_minor": 0
      },
      "text/plain": [
       "  0%|          | 0/2 [00:00<?, ?it/s]"
      ]
     },
     "metadata": {},
     "output_type": "display_data"
    },
    {
     "name": "stdout",
     "output_type": "stream",
     "text": [
      "{'eval_loss': 0.03887683525681496, 'eval_accuracy': 0.995, 'eval_runtime': 0.1525, 'eval_samples_per_second': 1311.105, 'eval_steps_per_second': 13.111, 'epoch': 6.5}\n",
      "{'loss': 0.0197, 'grad_norm': 0.23175331950187683, 'learning_rate': 7.222222222222223e-06, 'epoch': 6.75}\n"
     ]
    },
    {
     "data": {
      "application/vnd.jupyter.widget-view+json": {
       "model_id": "bb96bc13043242fcab8db2e65dea24a1",
       "version_major": 2,
       "version_minor": 0
      },
      "text/plain": [
       "  0%|          | 0/2 [00:00<?, ?it/s]"
      ]
     },
     "metadata": {},
     "output_type": "display_data"
    },
    {
     "name": "stdout",
     "output_type": "stream",
     "text": [
      "{'eval_loss': 0.03663205727934837, 'eval_accuracy': 0.995, 'eval_runtime': 0.1514, 'eval_samples_per_second': 1321.324, 'eval_steps_per_second': 13.213, 'epoch': 6.75}\n",
      "{'loss': 0.0187, 'grad_norm': 0.22082306444644928, 'learning_rate': 6.666666666666667e-06, 'epoch': 7.0}\n"
     ]
    },
    {
     "data": {
      "application/vnd.jupyter.widget-view+json": {
       "model_id": "8328fc90c2b24e118e9ccb778a61a0fe",
       "version_major": 2,
       "version_minor": 0
      },
      "text/plain": [
       "  0%|          | 0/2 [00:00<?, ?it/s]"
      ]
     },
     "metadata": {},
     "output_type": "display_data"
    },
    {
     "name": "stdout",
     "output_type": "stream",
     "text": [
      "{'eval_loss': 0.03501308336853981, 'eval_accuracy': 0.995, 'eval_runtime': 0.1568, 'eval_samples_per_second': 1275.553, 'eval_steps_per_second': 12.756, 'epoch': 7.0}\n",
      "{'loss': 0.018, 'grad_norm': 0.25111111998558044, 'learning_rate': 6.111111111111112e-06, 'epoch': 7.25}\n"
     ]
    },
    {
     "data": {
      "application/vnd.jupyter.widget-view+json": {
       "model_id": "4d12a7a4cf984af196227ac36c37ab7c",
       "version_major": 2,
       "version_minor": 0
      },
      "text/plain": [
       "  0%|          | 0/2 [00:00<?, ?it/s]"
      ]
     },
     "metadata": {},
     "output_type": "display_data"
    },
    {
     "name": "stdout",
     "output_type": "stream",
     "text": [
      "{'eval_loss': 0.03392978385090828, 'eval_accuracy': 0.995, 'eval_runtime': 0.1563, 'eval_samples_per_second': 1279.611, 'eval_steps_per_second': 12.796, 'epoch': 7.25}\n",
      "{'loss': 0.0171, 'grad_norm': 0.21068283915519714, 'learning_rate': 5.555555555555557e-06, 'epoch': 7.5}\n"
     ]
    },
    {
     "data": {
      "application/vnd.jupyter.widget-view+json": {
       "model_id": "b236626fdbf34619b8b19164a7e0849e",
       "version_major": 2,
       "version_minor": 0
      },
      "text/plain": [
       "  0%|          | 0/2 [00:00<?, ?it/s]"
      ]
     },
     "metadata": {},
     "output_type": "display_data"
    },
    {
     "name": "stdout",
     "output_type": "stream",
     "text": [
      "{'eval_loss': 0.03317570313811302, 'eval_accuracy': 0.995, 'eval_runtime': 0.1573, 'eval_samples_per_second': 1271.088, 'eval_steps_per_second': 12.711, 'epoch': 7.5}\n",
      "{'loss': 0.0165, 'grad_norm': 0.21218915283679962, 'learning_rate': 5e-06, 'epoch': 7.75}\n"
     ]
    },
    {
     "data": {
      "application/vnd.jupyter.widget-view+json": {
       "model_id": "d9ce63cf9aa544dcba5cd2422032cd08",
       "version_major": 2,
       "version_minor": 0
      },
      "text/plain": [
       "  0%|          | 0/2 [00:00<?, ?it/s]"
      ]
     },
     "metadata": {},
     "output_type": "display_data"
    },
    {
     "name": "stdout",
     "output_type": "stream",
     "text": [
      "{'eval_loss': 0.03274964168667793, 'eval_accuracy': 0.995, 'eval_runtime': 0.1514, 'eval_samples_per_second': 1321.23, 'eval_steps_per_second': 13.212, 'epoch': 7.75}\n",
      "{'loss': 0.0166, 'grad_norm': 0.2070470154285431, 'learning_rate': 4.444444444444444e-06, 'epoch': 8.0}\n"
     ]
    },
    {
     "data": {
      "application/vnd.jupyter.widget-view+json": {
       "model_id": "29d66e21b0f04cb09e8c8e3be55449fc",
       "version_major": 2,
       "version_minor": 0
      },
      "text/plain": [
       "  0%|          | 0/2 [00:00<?, ?it/s]"
      ]
     },
     "metadata": {},
     "output_type": "display_data"
    },
    {
     "name": "stdout",
     "output_type": "stream",
     "text": [
      "{'eval_loss': 0.03247187286615372, 'eval_accuracy': 0.995, 'eval_runtime': 0.1583, 'eval_samples_per_second': 1263.208, 'eval_steps_per_second': 12.632, 'epoch': 8.0}\n",
      "{'loss': 0.016, 'grad_norm': 0.19958087801933289, 'learning_rate': 3.88888888888889e-06, 'epoch': 8.25}\n"
     ]
    },
    {
     "data": {
      "application/vnd.jupyter.widget-view+json": {
       "model_id": "cef439388ee54a428a2e0b551dc1cf81",
       "version_major": 2,
       "version_minor": 0
      },
      "text/plain": [
       "  0%|          | 0/2 [00:00<?, ?it/s]"
      ]
     },
     "metadata": {},
     "output_type": "display_data"
    },
    {
     "name": "stdout",
     "output_type": "stream",
     "text": [
      "{'eval_loss': 0.03244020417332649, 'eval_accuracy': 0.995, 'eval_runtime': 0.1609, 'eval_samples_per_second': 1242.91, 'eval_steps_per_second': 12.429, 'epoch': 8.25}\n",
      "{'loss': 0.0158, 'grad_norm': 0.1918262094259262, 'learning_rate': 3.3333333333333333e-06, 'epoch': 8.5}\n"
     ]
    },
    {
     "data": {
      "application/vnd.jupyter.widget-view+json": {
       "model_id": "8f1b47d56a0f4ea280d8c53f51e7b128",
       "version_major": 2,
       "version_minor": 0
      },
      "text/plain": [
       "  0%|          | 0/2 [00:00<?, ?it/s]"
      ]
     },
     "metadata": {},
     "output_type": "display_data"
    },
    {
     "name": "stdout",
     "output_type": "stream",
     "text": [
      "{'eval_loss': 0.0323944129049778, 'eval_accuracy': 0.995, 'eval_runtime': 0.1615, 'eval_samples_per_second': 1238.505, 'eval_steps_per_second': 12.385, 'epoch': 8.5}\n",
      "{'loss': 0.0155, 'grad_norm': 0.19376151263713837, 'learning_rate': 2.7777777777777783e-06, 'epoch': 8.75}\n"
     ]
    },
    {
     "data": {
      "application/vnd.jupyter.widget-view+json": {
       "model_id": "aefdd4892e5c43228c38fd887b798cc9",
       "version_major": 2,
       "version_minor": 0
      },
      "text/plain": [
       "  0%|          | 0/2 [00:00<?, ?it/s]"
      ]
     },
     "metadata": {},
     "output_type": "display_data"
    },
    {
     "name": "stdout",
     "output_type": "stream",
     "text": [
      "{'eval_loss': 0.03230508044362068, 'eval_accuracy': 0.995, 'eval_runtime': 0.1565, 'eval_samples_per_second': 1277.557, 'eval_steps_per_second': 12.776, 'epoch': 8.75}\n",
      "{'loss': 0.015, 'grad_norm': 0.19124411046504974, 'learning_rate': 2.222222222222222e-06, 'epoch': 9.0}\n"
     ]
    },
    {
     "data": {
      "application/vnd.jupyter.widget-view+json": {
       "model_id": "e2aef37718de439b9b9c62c8e160d2cc",
       "version_major": 2,
       "version_minor": 0
      },
      "text/plain": [
       "  0%|          | 0/2 [00:00<?, ?it/s]"
      ]
     },
     "metadata": {},
     "output_type": "display_data"
    },
    {
     "name": "stdout",
     "output_type": "stream",
     "text": [
      "{'eval_loss': 0.032244496047496796, 'eval_accuracy': 0.995, 'eval_runtime': 0.1565, 'eval_samples_per_second': 1278.311, 'eval_steps_per_second': 12.783, 'epoch': 9.0}\n",
      "{'loss': 0.0153, 'grad_norm': 0.19473876059055328, 'learning_rate': 1.6666666666666667e-06, 'epoch': 9.25}\n"
     ]
    },
    {
     "data": {
      "application/vnd.jupyter.widget-view+json": {
       "model_id": "44b916a4ed63448eb4cf07832e88fd66",
       "version_major": 2,
       "version_minor": 0
      },
      "text/plain": [
       "  0%|          | 0/2 [00:00<?, ?it/s]"
      ]
     },
     "metadata": {},
     "output_type": "display_data"
    },
    {
     "name": "stdout",
     "output_type": "stream",
     "text": [
      "{'eval_loss': 0.03226080536842346, 'eval_accuracy': 0.995, 'eval_runtime': 0.1564, 'eval_samples_per_second': 1278.389, 'eval_steps_per_second': 12.784, 'epoch': 9.25}\n",
      "{'loss': 0.0145, 'grad_norm': 0.191217839717865, 'learning_rate': 1.111111111111111e-06, 'epoch': 9.5}\n"
     ]
    },
    {
     "data": {
      "application/vnd.jupyter.widget-view+json": {
       "model_id": "a331438070ea449989d64364391738ec",
       "version_major": 2,
       "version_minor": 0
      },
      "text/plain": [
       "  0%|          | 0/2 [00:00<?, ?it/s]"
      ]
     },
     "metadata": {},
     "output_type": "display_data"
    },
    {
     "name": "stdout",
     "output_type": "stream",
     "text": [
      "{'eval_loss': 0.03227971866726875, 'eval_accuracy': 0.995, 'eval_runtime': 0.1641, 'eval_samples_per_second': 1219.055, 'eval_steps_per_second': 12.191, 'epoch': 9.5}\n",
      "{'loss': 0.0146, 'grad_norm': 0.18248936533927917, 'learning_rate': 5.555555555555555e-07, 'epoch': 9.75}\n"
     ]
    },
    {
     "data": {
      "application/vnd.jupyter.widget-view+json": {
       "model_id": "38ec50792d164a72851bd39e972c83b4",
       "version_major": 2,
       "version_minor": 0
      },
      "text/plain": [
       "  0%|          | 0/2 [00:00<?, ?it/s]"
      ]
     },
     "metadata": {},
     "output_type": "display_data"
    },
    {
     "name": "stdout",
     "output_type": "stream",
     "text": [
      "{'eval_loss': 0.03228437528014183, 'eval_accuracy': 0.995, 'eval_runtime': 0.1617, 'eval_samples_per_second': 1237.21, 'eval_steps_per_second': 12.372, 'epoch': 9.75}\n",
      "{'loss': 0.0146, 'grad_norm': 0.17875432968139648, 'learning_rate': 0.0, 'epoch': 10.0}\n"
     ]
    },
    {
     "data": {
      "application/vnd.jupyter.widget-view+json": {
       "model_id": "d9ead030035b4f01a046dc3af0a892e2",
       "version_major": 2,
       "version_minor": 0
      },
      "text/plain": [
       "  0%|          | 0/2 [00:00<?, ?it/s]"
      ]
     },
     "metadata": {},
     "output_type": "display_data"
    },
    {
     "name": "stdout",
     "output_type": "stream",
     "text": [
      "{'eval_loss': 0.03228028491139412, 'eval_accuracy': 0.995, 'eval_runtime': 0.1581, 'eval_samples_per_second': 1264.725, 'eval_steps_per_second': 12.647, 'epoch': 10.0}\n",
      "{'train_runtime': 57.3535, 'train_samples_per_second': 278.972, 'train_steps_per_second': 2.79, 'train_loss': 0.16429612380452455, 'epoch': 10.0}\n"
     ]
    },
    {
     "data": {
      "text/plain": [
       "TrainOutput(global_step=160, training_loss=0.16429612380452455, metrics={'train_runtime': 57.3535, 'train_samples_per_second': 278.972, 'train_steps_per_second': 2.79, 'total_flos': 174095545374000.0, 'train_loss': 0.16429612380452455, 'epoch': 10.0})"
      ]
     },
     "execution_count": 2,
     "metadata": {},
     "output_type": "execute_result"
    }
   ],
   "source": [
    "training_args = TrainingArguments(\n",
    "    output_dir=output_dir,\n",
    "    evaluation_strategy=\"steps\",\n",
    "    save_strategy=\"steps\",\n",
    "    eval_steps=0.02,\n",
    "    save_steps=0.02,\n",
    "    logging_steps=0.02,\n",
    "    save_total_limit=2,\n",
    "    learning_rate=2e-5,\n",
    "    per_device_train_batch_size=100, # 显存占用约5465MiB\n",
    "    per_device_eval_batch_size=100,\n",
    "    num_train_epochs=10,\n",
    "    weight_decay=0.01,\n",
    "    warmup_ratio=0.1,\n",
    "    load_best_model_at_end=True,\n",
    "    metric_for_best_model=\"accuracy\",\n",
    "    push_to_hub=False,\n",
    ")\n",
    "\n",
    "trainer = Trainer(\n",
    "    model=model,\n",
    "    args=training_args,\n",
    "    train_dataset=tokenized[\"train\"],\n",
    "    eval_dataset=tokenized[\"validation\"],\n",
    "    tokenizer=tokenizer,\n",
    "    data_collator=data_collator,\n",
    "    compute_metrics=compute_metrics,\n",
    ")\n",
    "\n",
    "trainer.train()"
   ]
  },
  {
   "cell_type": "code",
   "execution_count": 3,
   "metadata": {},
   "outputs": [
    {
     "data": {
      "application/vnd.jupyter.widget-view+json": {
       "model_id": "efcd0c382dd344afafd1d56d1fb0f73c",
       "version_major": 2,
       "version_minor": 0
      },
      "text/plain": [
       "  0%|          | 0/2 [00:00<?, ?it/s]"
      ]
     },
     "metadata": {},
     "output_type": "display_data"
    },
    {
     "name": "stdout",
     "output_type": "stream",
     "text": [
      "Confusion Matrix:\n",
      "[[101   0]\n",
      " [  0  99]]\n"
     ]
    },
    {
     "data": {
      "image/png": "[encoded data removed]",
      "text/plain": [
       "<Figure size 1000x700 with 2 Axes>"
      ]
     },
     "metadata": {},
     "output_type": "display_data"
    }
   ],
   "source": [
    "predictions = trainer.predict(tokenized[\"test\"]).predictions\n",
    "predictions = np.argmax(predictions, axis=1)\n",
    "true_labels = tokenized[\"test\"][\"label\"]\n",
    "\n",
    "# 计算混淆矩阵\n",
    "cm = confusion_matrix(true_labels, predictions)\n",
    "\n",
    "# 打印混淆矩阵\n",
    "print(\"Confusion Matrix:\")\n",
    "print(cm)\n",
    "\n",
    "# 使用seaborn绘制混淆矩阵的热力图\n",
    "plt.figure(figsize=(10, 7))\n",
    "sns.heatmap(cm, annot=True, fmt=\"d\")\n",
    "plt.title(\"Confusion Matrix\")\n",
    "plt.xlabel(\"Predicted\")\n",
    "plt.ylabel(\"True\")\n",
    "plt.show()\n"
   ]
  },
  {
   "cell_type": "code",
   "execution_count": 4,
   "metadata": {},
   "outputs": [
    {
     "data": {
      "application/vnd.jupyter.widget-view+json": {
       "model_id": "77c4192900d44a909143fc72543bb5e0",
       "version_major": 2,
       "version_minor": 0
      },
      "text/plain": [
       "  0%|          | 0/2 [00:00<?, ?it/s]"
      ]
     },
     "metadata": {},
     "output_type": "display_data"
    },
    {
     "name": "stdout",
     "output_type": "stream",
     "text": [
      "Confusion Matrix:\n",
      "[[101   0]\n",
      " [  0  99]]\n"
     ]
    }
   ],
   "source": [
    "from sklearn.metrics import confusion_matrix\n",
    "import pandas as pd\n",
    "# 加载测试数据\n",
    "test_data = pd.read_parquet(\"./datasets/FinQuestions_v2/test.parquet\")\n",
    "\n",
    "# 预测\n",
    "predictions = trainer.predict(tokenized[\"test\"]).predictions\n",
    "predictions = np.argmax(predictions, axis=1)\n",
    "true_labels = test_data[\"label\"]\n",
    "\n",
    "# 计算混淆矩阵\n",
    "cm = confusion_matrix(true_labels, predictions)\n",
    "\n",
    "# 打印混淆矩阵\n",
    "print(\"Confusion Matrix:\")\n",
    "print(cm)\n",
    "\n",
    "# 找出预测错误的案例\n",
    "wrong_predictions = test_data[predictions != true_labels]\n",
    "\n",
    "# 打印预测错误的案例\n",
    "for index, row in wrong_predictions.iterrows():\n",
    "    print(f\"True Label: {row['label']}, Predicted Label: {predictions[index]}, Text: {row['text']}\")"
   ]
  },
  {
   "cell_type": "code",
   "execution_count": 5,
   "metadata": {},
   "outputs": [],
   "source": [
    "text = \"解释一下量化宽松什么意思\"\n",
    "\n",
    "# classifier = pipeline(\"sentiment-analysis\", model=output_dir+\"/checkpoint-50\")\n",
    "# classifier(text)"
   ]
  }
 ],
 "metadata": {
  "kernelspec": {
   "display_name": ".venv",
   "language": "python",
   "name": "python3"
  },
  "language_info": {
   "codemirror_mode": {
    "name": "ipython",
    "version": 3
   },
   "file_extension": ".py",
   "mimetype": "text/x-python",
   "name": "python",
   "nbconvert_exporter": "python",
   "pygments_lexer": "ipython3",
   "version": "3.11.9"
  }
 },
 "nbformat": 4,
 "nbformat_minor": 2
}
