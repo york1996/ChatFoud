{
 "cells": [
  {
   "cell_type": "code",
   "execution_count": 1,
   "metadata": {},
   "outputs": [],
   "source": [
    "import json\n",
    "from openai import OpenAI\n",
    "import pandas as pd\n",
    "import numpy as np"
   ]
  },
  {
   "cell_type": "markdown",
   "metadata": {},
   "source": [
    "### 1. 提取DuReaderQG数据集中的语境和问题"
   ]
  },
  {
   "cell_type": "code",
   "execution_count": null,
   "metadata": {},
   "outputs": [],
   "source": [
    "# 读取原始的train.json文件\n",
    "with open('./datasets/DuReaderQG/train.json', 'r', encoding='utf-8') as f:\n",
    "    data = [json.loads(line) for line in f.readlines()[:1500]]\n",
    "\n",
    "# 抽取前500条记录的context内容\n",
    "gen_context_data = []\n",
    "for i, record in enumerate(data[:500]):\n",
    "    gen_context_data.append({\n",
    "        \"context\": record[\"context\"],\n",
    "        \"id\": i + 1  # 重新索引id，从1开始\n",
    "    })\n",
    "\n",
    "# 将抽取的内容保存到gen_context.json文件中\n",
    "with open('gen_context.json', 'w', encoding='utf-8') as f:\n",
    "    json.dump(gen_context_data, f, ensure_ascii=False, indent=4)\n",
    "\n",
    "print(\"gen_context.json has been generated.\")\n",
    "\n",
    "# 抽取第1001到1500条记录的question内容\n",
    "short_questions_data = []\n",
    "for i, record in enumerate(data[1000:1500]):  # 注意Python切片是左闭右开的，所以这里使用1000:1500来获取1001-1500条记录\n",
    "    short_questions_data.append({\n",
    "        \"question\": record[\"question\"],\n",
    "        \"id\": i + 1001  # 重新索引id，从1001开始\n",
    "    })\n",
    "\n",
    "# 将抽取的内容保存到short_questions.json文件中\n",
    "with open('short_questions.json', 'w', encoding='utf-8') as f:\n",
    "    json.dump(short_questions_data, f, ensure_ascii=False, indent=4)\n",
    "\n",
    "print(\"short_questions.json has been generated.\")"
   ]
  },
  {
   "cell_type": "markdown",
   "metadata": {},
   "source": [
    "### 2. 利用语境生成500条问题"
   ]
  },
  {
   "cell_type": "code",
   "execution_count": null,
   "metadata": {},
   "outputs": [],
   "source": [
    "ds_key = \"\"\n",
    "ds_url = \"https://api.deepseek.com/\"\n",
    "ds_mod = \"deepseek-chat\"\n",
    "local_url = \"http://localhost:1234/v1\"\n",
    "local_key = \"lm-studio\"\n",
    "local_mod = \"Qwen/Qwen1.5-14B-Chat-GGUF\"\n",
    "# 读取json文件\n",
    "with open('./gen_context.json', 'r', encoding='utf-8') as file:\n",
    "    data = json.load(file)\n",
    "\n",
    "# 创建一个空列表来保存模型的响应\n",
    "responses = []\n",
    "\n",
    "# 遍历每个context\n",
    "for item in data:\n",
    "    context = item['context']\n",
    "    id = item['id']\n",
    "    \n",
    "    client = OpenAI(   \n",
    "                api_key=local_key, \n",
    "                base_url=local_url\n",
    "            )\n",
    "    \n",
    "    # 发送请求到模型\n",
    "    response = client.chat.completions.create(\n",
    "        model=local_mod,\n",
    "        messages=[\n",
    "            {\n",
    "                \"role\": \"system\", \n",
    "                \"content\": \"根据用户的输入文本，提出一个有价值的问题，务必使用**中文**表述问题，仅直接简要表达问题即可，不许给出答案\"\n",
    "            },\n",
    "            {\n",
    "                \"role\": \"user\", \n",
    "                \"content\": context},\n",
    "        ],\n",
    "        max_tokens=512,\n",
    "        frequency_penalty=1.2,\n",
    "    )\n",
    "    \n",
    "    # 保存模型的响应\n",
    "    responses.append({\n",
    "        \"id\": id,\n",
    "        \"question\": response.choices[0].message.content\n",
    "    })\n",
    "\n",
    "# 将响应保存到long_question.json文件中\n",
    "with open('long_questions.json', 'w', encoding='utf-8') as file:\n",
    "    json.dump(responses, file, ensure_ascii=False, indent=4)"
   ]
  },
  {
   "cell_type": "markdown",
   "metadata": {},
   "source": [
    "### 3. 合并DuReaderQG的现成问题与生成问题作为反例"
   ]
  },
  {
   "cell_type": "code",
   "execution_count": 2,
   "metadata": {},
   "outputs": [
    {
     "data": {
      "text/html": [
       "<div>\n",
       "<style scoped>\n",
       "    .dataframe tbody tr th:only-of-type {\n",
       "        vertical-align: middle;\n",
       "    }\n",
       "\n",
       "    .dataframe tbody tr th {\n",
       "        vertical-align: top;\n",
       "    }\n",
       "\n",
       "    .dataframe thead th {\n",
       "        text-align: right;\n",
       "    }\n",
       "</style>\n",
       "<table border=\"1\" class=\"dataframe\">\n",
       "  <thead>\n",
       "    <tr style=\"text-align: right;\">\n",
       "      <th></th>\n",
       "      <th>text</th>\n",
       "      <th>label</th>\n",
       "    </tr>\n",
       "  </thead>\n",
       "  <tbody>\n",
       "    <tr>\n",
       "      <th>0</th>\n",
       "      <td>雪见为何醒来后一脸木然?</td>\n",
       "      <td>0</td>\n",
       "    </tr>\n",
       "    <tr>\n",
       "      <th>1</th>\n",
       "      <td>方太燃气热水器为什么能解决忽热忽冷的问题？</td>\n",
       "      <td>0</td>\n",
       "    </tr>\n",
       "    <tr>\n",
       "      <th>2</th>\n",
       "      <td>乔丹在第一次退役之前拿过几次常规赛MVP？</td>\n",
       "      <td>0</td>\n",
       "    </tr>\n",
       "    <tr>\n",
       "      <th>3</th>\n",
       "      <td>杜达昌在重庆曙光男科医院做哪个科室的？</td>\n",
       "      <td>0</td>\n",
       "    </tr>\n",
       "    <tr>\n",
       "      <th>4</th>\n",
       "      <td>吴磊参演的《斗破苍穹》是什么时候定档？</td>\n",
       "      <td>0</td>\n",
       "    </tr>\n",
       "  </tbody>\n",
       "</table>\n",
       "</div>"
      ],
      "text/plain": [
       "                    text  label\n",
       "0           雪见为何醒来后一脸木然?      0\n",
       "1  方太燃气热水器为什么能解决忽热忽冷的问题？      0\n",
       "2  乔丹在第一次退役之前拿过几次常规赛MVP？      0\n",
       "3    杜达昌在重庆曙光男科医院做哪个科室的？      0\n",
       "4    吴磊参演的《斗破苍穹》是什么时候定档？      0"
      ]
     },
     "execution_count": 2,
     "metadata": {},
     "output_type": "execute_result"
    }
   ],
   "source": [
    "# 读取两个JSON文件\n",
    "with open('long_questions.json', 'r', encoding='utf-8') as f:\n",
    "    long_questions = json.load(f)\n",
    "\n",
    "with open('short_questions.json', 'r',  encoding='utf-8') as f:\n",
    "    short_questions = json.load(f)\n",
    "\n",
    "# 合并两个列表\n",
    "questions = long_questions + short_questions\n",
    "\n",
    "# 创建DataFrame\n",
    "false_df = pd.DataFrame(questions)\n",
    "\n",
    "# 提取\"question\"字段并创建\"text\"列\n",
    "false_df['text'] = false_df['question']\n",
    "\n",
    "# 创建\"label\"列并全部设置为0\n",
    "false_df['label'] = 0\n",
    "\n",
    "# 删除原始的\"question\"列（如果不需要保留）\n",
    "false_df.drop(columns=['question'], inplace=True)\n",
    "false_df.drop(columns=['id'], inplace=True)\n",
    "# 显示DataFrame\n",
    "false_df.head()"
   ]
  },
  {
   "cell_type": "markdown",
   "metadata": {},
   "source": [
    "### 4. 加入竞赛中的示例正例形成完整数据集"
   ]
  },
  {
   "cell_type": "code",
   "execution_count": 3,
   "metadata": {},
   "outputs": [],
   "source": [
    "# 比赛用数据\n",
    "with open('question.json', 'r',  encoding='utf-8') as f:\n",
    "    true_questions = [json.loads(line) for line in f.readlines()]\n",
    "# 创建DataFrame\n",
    "true_df = pd.DataFrame(true_questions)\n",
    "# 提取\"question\"字段并创建\"text\"列\n",
    "true_df['text'] = true_df['question']\n",
    "# 创建\"label\"列并全部设置为1\n",
    "true_df['label'] = 1\n",
    "# 删除原始的\"question\"列（如果不需要保留）\n",
    "true_df.drop(columns=['question'], inplace=True)\n",
    "true_df.drop(columns=['id'], inplace=True)\n",
    "\n",
    "# print(true_df)\n",
    "\n",
    "# 合并true_df和false_df\n",
    "merged_df = pd.concat([true_df, false_df]).reset_index(drop=True)\n",
    "\n",
    "# 显示合并后的DataFrame\n",
    "# merged_df.head()\n",
    "# merged_df.tail()"
   ]
  },
  {
   "cell_type": "markdown",
   "metadata": {},
   "source": [
    "### 5. 划分训练集和测试集并优化格式"
   ]
  },
  {
   "cell_type": "code",
   "execution_count": 5,
   "metadata": {},
   "outputs": [
    {
     "name": "stdout",
     "output_type": "stream",
     "text": [
      "测试集:\n",
      "                                                text  label\n",
      "0                                         上海打乙肝疫苗多少钱      0\n",
      "1                          云南沃森生物技术股份有限公司创始人的研发资质如何？      1\n",
      "2                             怎样在西北街证券开户时输入东吴证券的客户号？      0\n",
      "3  请问2020年二季度有多少家基金是净申购?它们的净申购份额加起来是多少?请四舍五入保留小数点两位。      1\n",
      "4                                   如何更改魔兽争霸3的视频分辨率？      0\n",
      "验证集:\n",
      "                                                  text  label\n",
      "200                                           寻龙诀 蒙古插曲      0\n",
      "201                    新疆浩源天然气股份有限公司实际控制人直系亲属控股的企业有哪些？      1\n",
      "202             请帮我查询在2020年,信达澳亚基金管理有限公司成立哪种类型的基金个数最多?      1\n",
      "203                  西安启源机电装备股份有限公司上游行业发展状况对本行业制约情况如何？      1\n",
      "204  请帮我查询下，在20211117，申万行业分类里一级行业为商业贸易行业的所有股票里, 成交金...      1\n",
      "训练集:\n",
      "                                                  text  label\n",
      "400                       20191231日，创世纪在多少只基金的前十大重仓股中？      1\n",
      "401                        湖南南岭民用爆破器材股份有限公司拥有的核心技术有哪些？      1\n",
      "402                          招商基金管理有限公司管理的混合型产品的数量有多少?      1\n",
      "403                       杭州中恒电气股份有限公司本次募投项目涉及的新产品是什么？      1\n",
      "404  请列出汇添富基金管理股份有限公司在2020年成立并且托管人为中国农业银行股份有限公司的所有基...      1\n"
     ]
    }
   ],
   "source": [
    "# 设置随机种子以确保结果可重复\n",
    "np.random.seed(42)\n",
    "\n",
    "# 计算划分点\n",
    "total_data = len(merged_df)\n",
    "split_point_test = int(total_data * 1 / 10)  # 1/10 的数据将用于测试集\n",
    "split_point_val = int(total_data * 1 / 10)  # 1/10 的数据将用于验证集\n",
    "\n",
    "# 随机打乱数据\n",
    "shuffled_df = merged_df.sample(frac=1).reset_index(drop=True)\n",
    "\n",
    "# 划分训练集、验证集和测试集\n",
    "test_set = shuffled_df.iloc[:split_point_test]\n",
    "val_set = shuffled_df.iloc[split_point_test:split_point_test + split_point_val]\n",
    "train_set = shuffled_df.iloc[split_point_test + split_point_val:]\n",
    "\n",
    "# 显示划分后的数据集\n",
    "print(\"测试集:\")\n",
    "print(test_set.head())\n",
    "\n",
    "print(\"验证集:\")\n",
    "print(val_set.head())\n",
    "\n",
    "print(\"训练集:\")\n",
    "print(train_set.head())\n",
    "\n",
    "# 转换为parquet格式\n",
    "test_set.to_parquet('./datasets/FinQuestions_v2/test.parquet')\n",
    "val_set.to_parquet('./datasets/FinQuestions_v2/val.parquet')\n",
    "train_set.to_parquet('./datasets/FinQuestions_v2/train.parquet')"
   ]
  }
 ],
 "metadata": {
  "kernelspec": {
   "display_name": ".venv",
   "language": "python",
   "name": "python3"
  },
  "language_info": {
   "codemirror_mode": {
    "name": "ipython",
    "version": 3
   },
   "file_extension": ".py",
   "mimetype": "text/x-python",
   "name": "python",
   "nbconvert_exporter": "python",
   "pygments_lexer": "ipython3",
   "version": "3.11.9"
  }
 },
 "nbformat": 4,
 "nbformat_minor": 2
}
