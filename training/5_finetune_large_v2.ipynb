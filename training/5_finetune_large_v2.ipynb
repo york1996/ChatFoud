{
 "cells": [
  {
   "cell_type": "code",
   "execution_count": 1,
   "metadata": {},
   "outputs": [
    {
     "name": "stderr",
     "output_type": "stream",
     "text": [
      "Some weights of BertForSequenceClassification were not initialized from the model checkpoint at aspire/acge_text_embedding and are newly initialized: ['classifier.bias', 'classifier.weight']\n",
      "You should probably TRAIN this model on a down-stream task to be able to use it for predictions and inference.\n"
     ]
    }
   ],
   "source": [
    "import datasets\n",
    "from datasets import load_dataset\n",
    "from pathlib import Path\n",
    "from transformers import AutoTokenizer, DataCollatorWithPadding, AutoModelForSequenceClassification, TrainingArguments, Trainer, pipeline\n",
    "import evaluate\n",
    "import numpy as np\n",
    "from sklearn.metrics import confusion_matrix\n",
    "import seaborn as sns\n",
    "import matplotlib.pyplot as plt\n",
    "\n",
    "data_dir = \"./datasets/FinQuestions_v2\"\n",
    "token_dir = \"./tokenizers/\"\n",
    "model_dir = \"./models/\"\n",
    "model_name = \"aspire/acge_text_embedding\"  # ~297MB\n",
    "output_dir=\"./finetune_large_v2\"\n",
    "\n",
    "finq = load_dataset(\"parquet\", data_dir=data_dir)\n",
    "\n",
    "# 下面两行代码只需首次运行\n",
    "# tokenizer = AutoTokenizer.from_pretrained(model_name)\n",
    "# tokenizer.save_pretrained(token_dir+model_name)\n",
    "\n",
    "tokenizer = AutoTokenizer.from_pretrained(token_dir+model_name)\n",
    "\n",
    "def preprocess_function(examples):\n",
    "    return tokenizer(examples[\"text\"], truncation=True)\n",
    "\n",
    "tokenized = finq.map(preprocess_function, batched=True)\n",
    "\n",
    "data_collator = DataCollatorWithPadding(tokenizer=tokenizer)\n",
    "\n",
    "accuracy = evaluate.load(\"accuracy\")\n",
    "\n",
    "def compute_metrics(eval_pred):\n",
    "    predictions, labels = eval_pred\n",
    "    predictions = np.argmax(predictions, axis=1)\n",
    "    return accuracy.compute(predictions=predictions, references=labels)\n",
    "\n",
    "id2label = {0: \"FALSE\", 1: \"TRUE\"}\n",
    "label2id = {\"FALSE\": 0, \"TRUE\": 1}\n",
    "\n",
    "# 下面两行代码只需首次运行\n",
    "# model = AutoModelForSequenceClassification.from_pretrained( model_name, num_labels=2, id2label=id2label, label2id=label2id)\n",
    "# model.save_pretrained(model_dir+model_name)\n",
    "\n",
    "model = AutoModelForSequenceClassification.from_pretrained(\n",
    "    model_dir+model_name, \n",
    "    num_labels=2, \n",
    "    id2label=id2label, \n",
    "    label2id=label2id\n",
    ")"
   ]
  },
  {
   "cell_type": "code",
   "execution_count": 2,
   "metadata": {},
   "outputs": [
    {
     "data": {
      "application/vnd.jupyter.widget-view+json": {
       "model_id": "e5077e0ac1464f2fbc34ab34a45a2c1d",
       "version_major": 2,
       "version_minor": 0
      },
      "text/plain": [
       "  0%|          | 0/192 [00:00<?, ?it/s]"
      ]
     },
     "metadata": {},
     "output_type": "display_data"
    },
    {
     "name": "stdout",
     "output_type": "stream",
     "text": [
      "{'loss': 0.7915, 'grad_norm': 6.0841240882873535, 'learning_rate': 1.0000000000000002e-06, 'epoch': 0.06}\n"
     ]
    },
    {
     "data": {
      "application/vnd.jupyter.widget-view+json": {
       "model_id": "bb8ad3e46f4b41c3a23c81cbe9db0023",
       "version_major": 2,
       "version_minor": 0
      },
      "text/plain": [
       "  0%|          | 0/8 [00:00<?, ?it/s]"
      ]
     },
     "metadata": {},
     "output_type": "display_data"
    },
    {
     "name": "stdout",
     "output_type": "stream",
     "text": [
      "{'eval_loss': 0.7622582912445068, 'eval_accuracy': 0.36, 'eval_runtime': 1.4368, 'eval_samples_per_second': 139.201, 'eval_steps_per_second': 5.568, 'epoch': 0.06}\n",
      "{'loss': 0.7575, 'grad_norm': 6.142334938049316, 'learning_rate': 2.0000000000000003e-06, 'epoch': 0.12}\n"
     ]
    },
    {
     "data": {
      "application/vnd.jupyter.widget-view+json": {
       "model_id": "5ea8c6c5cdb541bdb282e72d51acde3a",
       "version_major": 2,
       "version_minor": 0
      },
      "text/plain": [
       "  0%|          | 0/8 [00:00<?, ?it/s]"
      ]
     },
     "metadata": {},
     "output_type": "display_data"
    },
    {
     "name": "stdout",
     "output_type": "stream",
     "text": [
      "{'eval_loss': 0.7077925205230713, 'eval_accuracy': 0.48, 'eval_runtime': 2.6264, 'eval_samples_per_second': 76.149, 'eval_steps_per_second': 3.046, 'epoch': 0.12}\n",
      "{'loss': 0.6776, 'grad_norm': 5.573013782501221, 'learning_rate': 3e-06, 'epoch': 0.19}\n"
     ]
    },
    {
     "data": {
      "application/vnd.jupyter.widget-view+json": {
       "model_id": "8d48b16b763647ff860145bdb59d4909",
       "version_major": 2,
       "version_minor": 0
      },
      "text/plain": [
       "  0%|          | 0/8 [00:00<?, ?it/s]"
      ]
     },
     "metadata": {},
     "output_type": "display_data"
    },
    {
     "name": "stdout",
     "output_type": "stream",
     "text": [
      "{'eval_loss': 0.6266672015190125, 'eval_accuracy': 0.71, 'eval_runtime': 4.9937, 'eval_samples_per_second': 40.05, 'eval_steps_per_second': 1.602, 'epoch': 0.19}\n",
      "{'loss': 0.5896, 'grad_norm': 5.840281009674072, 'learning_rate': 4.000000000000001e-06, 'epoch': 0.25}\n"
     ]
    },
    {
     "data": {
      "application/vnd.jupyter.widget-view+json": {
       "model_id": "d2a8b8e181784eb896ba839440e05e7d",
       "version_major": 2,
       "version_minor": 0
      },
      "text/plain": [
       "  0%|          | 0/8 [00:00<?, ?it/s]"
      ]
     },
     "metadata": {},
     "output_type": "display_data"
    },
    {
     "name": "stdout",
     "output_type": "stream",
     "text": [
      "{'eval_loss': 0.5338820815086365, 'eval_accuracy': 0.78, 'eval_runtime': 5.0073, 'eval_samples_per_second': 39.942, 'eval_steps_per_second': 1.598, 'epoch': 0.25}\n",
      "{'loss': 0.4686, 'grad_norm': 3.729990243911743, 'learning_rate': 5e-06, 'epoch': 0.31}\n"
     ]
    },
    {
     "data": {
      "application/vnd.jupyter.widget-view+json": {
       "model_id": "89377b64217c42dcb2f8f2553adb4ad6",
       "version_major": 2,
       "version_minor": 0
      },
      "text/plain": [
       "  0%|          | 0/8 [00:00<?, ?it/s]"
      ]
     },
     "metadata": {},
     "output_type": "display_data"
    },
    {
     "name": "stdout",
     "output_type": "stream",
     "text": [
      "{'eval_loss': 0.4406866729259491, 'eval_accuracy': 0.83, 'eval_runtime': 5.0157, 'eval_samples_per_second': 39.875, 'eval_steps_per_second': 1.595, 'epoch': 0.31}\n",
      "{'loss': 0.4022, 'grad_norm': 4.572551727294922, 'learning_rate': 4.883720930232559e-06, 'epoch': 0.38}\n"
     ]
    },
    {
     "data": {
      "application/vnd.jupyter.widget-view+json": {
       "model_id": "12e455e747d6467bba93b62c644cb8e7",
       "version_major": 2,
       "version_minor": 0
      },
      "text/plain": [
       "  0%|          | 0/8 [00:00<?, ?it/s]"
      ]
     },
     "metadata": {},
     "output_type": "display_data"
    },
    {
     "name": "stdout",
     "output_type": "stream",
     "text": [
      "{'eval_loss': 0.34827202558517456, 'eval_accuracy': 0.89, 'eval_runtime': 5.0183, 'eval_samples_per_second': 39.854, 'eval_steps_per_second': 1.594, 'epoch': 0.38}\n",
      "{'loss': 0.3027, 'grad_norm': 2.5416345596313477, 'learning_rate': 4.767441860465117e-06, 'epoch': 0.44}\n"
     ]
    },
    {
     "data": {
      "application/vnd.jupyter.widget-view+json": {
       "model_id": "9c7f9f1a4c31436e8005199d03ca5bf6",
       "version_major": 2,
       "version_minor": 0
      },
      "text/plain": [
       "  0%|          | 0/8 [00:00<?, ?it/s]"
      ]
     },
     "metadata": {},
     "output_type": "display_data"
    },
    {
     "name": "stdout",
     "output_type": "stream",
     "text": [
      "{'eval_loss': 0.25526538491249084, 'eval_accuracy': 0.965, 'eval_runtime': 5.0489, 'eval_samples_per_second': 39.613, 'eval_steps_per_second': 1.585, 'epoch': 0.44}\n",
      "{'loss': 0.2241, 'grad_norm': 2.8863823413848877, 'learning_rate': 4.651162790697675e-06, 'epoch': 0.5}\n"
     ]
    },
    {
     "data": {
      "application/vnd.jupyter.widget-view+json": {
       "model_id": "d10c1d76193d4cff858fc9bb31e88fd1",
       "version_major": 2,
       "version_minor": 0
      },
      "text/plain": [
       "  0%|          | 0/8 [00:00<?, ?it/s]"
      ]
     },
     "metadata": {},
     "output_type": "display_data"
    },
    {
     "name": "stdout",
     "output_type": "stream",
     "text": [
      "{'eval_loss': 0.17308716475963593, 'eval_accuracy': 0.985, 'eval_runtime': 5.0097, 'eval_samples_per_second': 39.923, 'eval_steps_per_second': 1.597, 'epoch': 0.5}\n",
      "{'loss': 0.1323, 'grad_norm': 1.951298713684082, 'learning_rate': 4.5348837209302326e-06, 'epoch': 0.56}\n"
     ]
    },
    {
     "data": {
      "application/vnd.jupyter.widget-view+json": {
       "model_id": "406837d02b8245b19919d4a2e5123d27",
       "version_major": 2,
       "version_minor": 0
      },
      "text/plain": [
       "  0%|          | 0/8 [00:00<?, ?it/s]"
      ]
     },
     "metadata": {},
     "output_type": "display_data"
    },
    {
     "name": "stdout",
     "output_type": "stream",
     "text": [
      "{'eval_loss': 0.10846847295761108, 'eval_accuracy': 0.99, 'eval_runtime': 5.0123, 'eval_samples_per_second': 39.901, 'eval_steps_per_second': 1.596, 'epoch': 0.56}\n",
      "{'loss': 0.1151, 'grad_norm': 1.3831089735031128, 'learning_rate': 4.418604651162791e-06, 'epoch': 0.62}\n"
     ]
    },
    {
     "data": {
      "application/vnd.jupyter.widget-view+json": {
       "model_id": "9f46a8e5b88c489c879cdea604e98b6e",
       "version_major": 2,
       "version_minor": 0
      },
      "text/plain": [
       "  0%|          | 0/8 [00:00<?, ?it/s]"
      ]
     },
     "metadata": {},
     "output_type": "display_data"
    },
    {
     "name": "stdout",
     "output_type": "stream",
     "text": [
      "{'eval_loss': 0.06419165432453156, 'eval_accuracy': 0.995, 'eval_runtime': 5.053, 'eval_samples_per_second': 39.58, 'eval_steps_per_second': 1.583, 'epoch': 0.62}\n",
      "{'loss': 0.0587, 'grad_norm': 1.3651819229125977, 'learning_rate': 4.302325581395349e-06, 'epoch': 0.69}\n"
     ]
    },
    {
     "data": {
      "application/vnd.jupyter.widget-view+json": {
       "model_id": "391d6755bd2940529f5a9c4568e9f19a",
       "version_major": 2,
       "version_minor": 0
      },
      "text/plain": [
       "  0%|          | 0/8 [00:00<?, ?it/s]"
      ]
     },
     "metadata": {},
     "output_type": "display_data"
    },
    {
     "name": "stdout",
     "output_type": "stream",
     "text": [
      "{'eval_loss': 0.03615909814834595, 'eval_accuracy': 1.0, 'eval_runtime': 5.0641, 'eval_samples_per_second': 39.494, 'eval_steps_per_second': 1.58, 'epoch': 0.69}\n",
      "{'loss': 0.0353, 'grad_norm': 0.8305336833000183, 'learning_rate': 4.186046511627907e-06, 'epoch': 0.75}\n"
     ]
    },
    {
     "data": {
      "application/vnd.jupyter.widget-view+json": {
       "model_id": "ba518b058f9341cfa621ebd6041e675b",
       "version_major": 2,
       "version_minor": 0
      },
      "text/plain": [
       "  0%|          | 0/8 [00:00<?, ?it/s]"
      ]
     },
     "metadata": {},
     "output_type": "display_data"
    },
    {
     "name": "stdout",
     "output_type": "stream",
     "text": [
      "{'eval_loss': 0.019682183861732483, 'eval_accuracy': 1.0, 'eval_runtime': 5.0149, 'eval_samples_per_second': 39.881, 'eval_steps_per_second': 1.595, 'epoch': 0.75}\n",
      "{'loss': 0.017, 'grad_norm': 0.2776588797569275, 'learning_rate': 4.0697674418604655e-06, 'epoch': 0.81}\n"
     ]
    },
    {
     "data": {
      "application/vnd.jupyter.widget-view+json": {
       "model_id": "eedb9cb6794d43308145e4a0ddc526ec",
       "version_major": 2,
       "version_minor": 0
      },
      "text/plain": [
       "  0%|          | 0/8 [00:00<?, ?it/s]"
      ]
     },
     "metadata": {},
     "output_type": "display_data"
    },
    {
     "name": "stdout",
     "output_type": "stream",
     "text": [
      "{'eval_loss': 0.011567111127078533, 'eval_accuracy': 1.0, 'eval_runtime': 5.0557, 'eval_samples_per_second': 39.559, 'eval_steps_per_second': 1.582, 'epoch': 0.81}\n",
      "{'loss': 0.0084, 'grad_norm': 0.23401638865470886, 'learning_rate': 3.953488372093024e-06, 'epoch': 0.88}\n"
     ]
    },
    {
     "data": {
      "application/vnd.jupyter.widget-view+json": {
       "model_id": "eb74cf7917c24c05862929b70520dd25",
       "version_major": 2,
       "version_minor": 0
      },
      "text/plain": [
       "  0%|          | 0/8 [00:00<?, ?it/s]"
      ]
     },
     "metadata": {},
     "output_type": "display_data"
    },
    {
     "name": "stdout",
     "output_type": "stream",
     "text": [
      "{'eval_loss': 0.0077868979424238205, 'eval_accuracy': 1.0, 'eval_runtime': 5.0036, 'eval_samples_per_second': 39.971, 'eval_steps_per_second': 1.599, 'epoch': 0.88}\n",
      "{'loss': 0.0059, 'grad_norm': 0.11455947905778885, 'learning_rate': 3.837209302325582e-06, 'epoch': 0.94}\n"
     ]
    },
    {
     "data": {
      "application/vnd.jupyter.widget-view+json": {
       "model_id": "2b46d6209445427f8e43e2acbf5846b2",
       "version_major": 2,
       "version_minor": 0
      },
      "text/plain": [
       "  0%|          | 0/8 [00:00<?, ?it/s]"
      ]
     },
     "metadata": {},
     "output_type": "display_data"
    },
    {
     "name": "stdout",
     "output_type": "stream",
     "text": [
      "{'eval_loss': 0.005849125329405069, 'eval_accuracy': 1.0, 'eval_runtime': 5.041, 'eval_samples_per_second': 39.675, 'eval_steps_per_second': 1.587, 'epoch': 0.94}\n",
      "{'loss': 0.0097, 'grad_norm': 0.07765604555606842, 'learning_rate': 3.72093023255814e-06, 'epoch': 1.0}\n"
     ]
    },
    {
     "data": {
      "application/vnd.jupyter.widget-view+json": {
       "model_id": "4ff6cf4a74d044ac9660099766367c6f",
       "version_major": 2,
       "version_minor": 0
      },
      "text/plain": [
       "  0%|          | 0/8 [00:00<?, ?it/s]"
      ]
     },
     "metadata": {},
     "output_type": "display_data"
    },
    {
     "name": "stdout",
     "output_type": "stream",
     "text": [
      "{'eval_loss': 0.0038780812174081802, 'eval_accuracy': 1.0, 'eval_runtime': 5.0398, 'eval_samples_per_second': 39.684, 'eval_steps_per_second': 1.587, 'epoch': 1.0}\n",
      "{'loss': 0.0026, 'grad_norm': 0.05750609189271927, 'learning_rate': 3.6046511627906977e-06, 'epoch': 1.06}\n"
     ]
    },
    {
     "data": {
      "application/vnd.jupyter.widget-view+json": {
       "model_id": "0f068e2991914519a99e89217eaa63ef",
       "version_major": 2,
       "version_minor": 0
      },
      "text/plain": [
       "  0%|          | 0/8 [00:00<?, ?it/s]"
      ]
     },
     "metadata": {},
     "output_type": "display_data"
    },
    {
     "name": "stdout",
     "output_type": "stream",
     "text": [
      "{'eval_loss': 0.0028411042876541615, 'eval_accuracy': 1.0, 'eval_runtime': 4.9993, 'eval_samples_per_second': 40.006, 'eval_steps_per_second': 1.6, 'epoch': 1.06}\n",
      "{'loss': 0.002, 'grad_norm': 0.04843725264072418, 'learning_rate': 3.4883720930232564e-06, 'epoch': 1.12}\n"
     ]
    },
    {
     "data": {
      "application/vnd.jupyter.widget-view+json": {
       "model_id": "d9587704ba934b4a928319e25858c50a",
       "version_major": 2,
       "version_minor": 0
      },
      "text/plain": [
       "  0%|          | 0/8 [00:00<?, ?it/s]"
      ]
     },
     "metadata": {},
     "output_type": "display_data"
    },
    {
     "name": "stdout",
     "output_type": "stream",
     "text": [
      "{'eval_loss': 0.0022973204031586647, 'eval_accuracy': 1.0, 'eval_runtime': 5.0249, 'eval_samples_per_second': 39.802, 'eval_steps_per_second': 1.592, 'epoch': 1.12}\n",
      "{'loss': 0.0019, 'grad_norm': 0.04539567604660988, 'learning_rate': 3.372093023255814e-06, 'epoch': 1.19}\n"
     ]
    },
    {
     "data": {
      "application/vnd.jupyter.widget-view+json": {
       "model_id": "a5506e8a95e049a39ac60126d1d34978",
       "version_major": 2,
       "version_minor": 0
      },
      "text/plain": [
       "  0%|          | 0/8 [00:00<?, ?it/s]"
      ]
     },
     "metadata": {},
     "output_type": "display_data"
    },
    {
     "name": "stdout",
     "output_type": "stream",
     "text": [
      "{'eval_loss': 0.001960483379662037, 'eval_accuracy': 1.0, 'eval_runtime': 5.0114, 'eval_samples_per_second': 39.909, 'eval_steps_per_second': 1.596, 'epoch': 1.19}\n",
      "{'loss': 0.0016, 'grad_norm': 0.04723386839032173, 'learning_rate': 3.2558139534883724e-06, 'epoch': 1.25}\n"
     ]
    },
    {
     "data": {
      "application/vnd.jupyter.widget-view+json": {
       "model_id": "dda4621354014829994b25dadeb37195",
       "version_major": 2,
       "version_minor": 0
      },
      "text/plain": [
       "  0%|          | 0/8 [00:00<?, ?it/s]"
      ]
     },
     "metadata": {},
     "output_type": "display_data"
    },
    {
     "name": "stdout",
     "output_type": "stream",
     "text": [
      "{'eval_loss': 0.0017412577290087938, 'eval_accuracy': 1.0, 'eval_runtime': 5.0386, 'eval_samples_per_second': 39.694, 'eval_steps_per_second': 1.588, 'epoch': 1.25}\n",
      "{'loss': 0.0056, 'grad_norm': 0.038336675614118576, 'learning_rate': 3.1395348837209307e-06, 'epoch': 1.31}\n"
     ]
    },
    {
     "data": {
      "application/vnd.jupyter.widget-view+json": {
       "model_id": "4ae1885326c749cb878926a551708c75",
       "version_major": 2,
       "version_minor": 0
      },
      "text/plain": [
       "  0%|          | 0/8 [00:00<?, ?it/s]"
      ]
     },
     "metadata": {},
     "output_type": "display_data"
    },
    {
     "name": "stdout",
     "output_type": "stream",
     "text": [
      "{'eval_loss': 0.0017487055156379938, 'eval_accuracy': 1.0, 'eval_runtime': 5.0688, 'eval_samples_per_second': 39.457, 'eval_steps_per_second': 1.578, 'epoch': 1.31}\n",
      "{'loss': 0.0027, 'grad_norm': 0.9171614050865173, 'learning_rate': 3.0232558139534885e-06, 'epoch': 1.38}\n"
     ]
    },
    {
     "data": {
      "application/vnd.jupyter.widget-view+json": {
       "model_id": "3e9c977c6594408585d096f38aa7743c",
       "version_major": 2,
       "version_minor": 0
      },
      "text/plain": [
       "  0%|          | 0/8 [00:00<?, ?it/s]"
      ]
     },
     "metadata": {},
     "output_type": "display_data"
    },
    {
     "name": "stdout",
     "output_type": "stream",
     "text": [
      "{'eval_loss': 0.0017875003395602107, 'eval_accuracy': 1.0, 'eval_runtime': 4.9994, 'eval_samples_per_second': 40.005, 'eval_steps_per_second': 1.6, 'epoch': 1.38}\n",
      "{'loss': 0.0017, 'grad_norm': 0.03784401714801788, 'learning_rate': 2.9069767441860468e-06, 'epoch': 1.44}\n"
     ]
    },
    {
     "data": {
      "application/vnd.jupyter.widget-view+json": {
       "model_id": "af1e5de20ad34d169712ad642be44d24",
       "version_major": 2,
       "version_minor": 0
      },
      "text/plain": [
       "  0%|          | 0/8 [00:00<?, ?it/s]"
      ]
     },
     "metadata": {},
     "output_type": "display_data"
    },
    {
     "name": "stdout",
     "output_type": "stream",
     "text": [
      "{'eval_loss': 0.0018493651878088713, 'eval_accuracy': 1.0, 'eval_runtime': 5.0122, 'eval_samples_per_second': 39.902, 'eval_steps_per_second': 1.596, 'epoch': 1.44}\n",
      "{'loss': 0.0013, 'grad_norm': 0.06591738015413284, 'learning_rate': 2.790697674418605e-06, 'epoch': 1.5}\n"
     ]
    },
    {
     "data": {
      "application/vnd.jupyter.widget-view+json": {
       "model_id": "03f5d98ee7a04815b2b4693da07f115e",
       "version_major": 2,
       "version_minor": 0
      },
      "text/plain": [
       "  0%|          | 0/8 [00:00<?, ?it/s]"
      ]
     },
     "metadata": {},
     "output_type": "display_data"
    },
    {
     "name": "stdout",
     "output_type": "stream",
     "text": [
      "{'eval_loss': 0.0018526400672271848, 'eval_accuracy': 1.0, 'eval_runtime': 5.0495, 'eval_samples_per_second': 39.608, 'eval_steps_per_second': 1.584, 'epoch': 1.5}\n",
      "{'loss': 0.0013, 'grad_norm': 0.03416057676076889, 'learning_rate': 2.674418604651163e-06, 'epoch': 1.56}\n"
     ]
    },
    {
     "data": {
      "application/vnd.jupyter.widget-view+json": {
       "model_id": "c10151b551d541f098c3ba3d16e209f2",
       "version_major": 2,
       "version_minor": 0
      },
      "text/plain": [
       "  0%|          | 0/8 [00:00<?, ?it/s]"
      ]
     },
     "metadata": {},
     "output_type": "display_data"
    },
    {
     "name": "stdout",
     "output_type": "stream",
     "text": [
      "{'eval_loss': 0.0018159485189244151, 'eval_accuracy': 1.0, 'eval_runtime': 5.0231, 'eval_samples_per_second': 39.816, 'eval_steps_per_second': 1.593, 'epoch': 1.56}\n",
      "{'loss': 0.0013, 'grad_norm': 0.057995621114969254, 'learning_rate': 2.558139534883721e-06, 'epoch': 1.62}\n"
     ]
    },
    {
     "data": {
      "application/vnd.jupyter.widget-view+json": {
       "model_id": "6cf701c9b92f4deb9ccea4e2242f0331",
       "version_major": 2,
       "version_minor": 0
      },
      "text/plain": [
       "  0%|          | 0/8 [00:00<?, ?it/s]"
      ]
     },
     "metadata": {},
     "output_type": "display_data"
    },
    {
     "name": "stdout",
     "output_type": "stream",
     "text": [
      "{'eval_loss': 0.0017421869561076164, 'eval_accuracy': 1.0, 'eval_runtime': 5.0649, 'eval_samples_per_second': 39.487, 'eval_steps_per_second': 1.579, 'epoch': 1.62}\n",
      "{'loss': 0.0011, 'grad_norm': 0.02889476716518402, 'learning_rate': 2.4418604651162793e-06, 'epoch': 1.69}\n"
     ]
    },
    {
     "data": {
      "application/vnd.jupyter.widget-view+json": {
       "model_id": "d73e16bb4fc444fa87ccd48d5c3e4663",
       "version_major": 2,
       "version_minor": 0
      },
      "text/plain": [
       "  0%|          | 0/8 [00:00<?, ?it/s]"
      ]
     },
     "metadata": {},
     "output_type": "display_data"
    },
    {
     "name": "stdout",
     "output_type": "stream",
     "text": [
      "{'eval_loss': 0.0016581396339461207, 'eval_accuracy': 1.0, 'eval_runtime': 5.0239, 'eval_samples_per_second': 39.81, 'eval_steps_per_second': 1.592, 'epoch': 1.69}\n",
      "{'loss': 0.0009, 'grad_norm': 0.02442544884979725, 'learning_rate': 2.3255813953488376e-06, 'epoch': 1.75}\n"
     ]
    },
    {
     "data": {
      "application/vnd.jupyter.widget-view+json": {
       "model_id": "8fa8a9ed116a44fe8cf2886d7ca49250",
       "version_major": 2,
       "version_minor": 0
      },
      "text/plain": [
       "  0%|          | 0/8 [00:00<?, ?it/s]"
      ]
     },
     "metadata": {},
     "output_type": "display_data"
    },
    {
     "name": "stdout",
     "output_type": "stream",
     "text": [
      "{'eval_loss': 0.0015908151399344206, 'eval_accuracy': 1.0, 'eval_runtime': 5.0158, 'eval_samples_per_second': 39.874, 'eval_steps_per_second': 1.595, 'epoch': 1.75}\n",
      "{'loss': 0.0188, 'grad_norm': 0.025814145803451538, 'learning_rate': 2.2093023255813954e-06, 'epoch': 1.81}\n"
     ]
    },
    {
     "data": {
      "application/vnd.jupyter.widget-view+json": {
       "model_id": "fa065f602dfc4c62b45820ff2d912831",
       "version_major": 2,
       "version_minor": 0
      },
      "text/plain": [
       "  0%|          | 0/8 [00:00<?, ?it/s]"
      ]
     },
     "metadata": {},
     "output_type": "display_data"
    },
    {
     "name": "stdout",
     "output_type": "stream",
     "text": [
      "{'eval_loss': 0.0015807056333869696, 'eval_accuracy': 1.0, 'eval_runtime': 4.9965, 'eval_samples_per_second': 40.028, 'eval_steps_per_second': 1.601, 'epoch': 1.81}\n",
      "{'loss': 0.0021, 'grad_norm': 0.029429199174046516, 'learning_rate': 2.0930232558139536e-06, 'epoch': 1.88}\n"
     ]
    },
    {
     "data": {
      "application/vnd.jupyter.widget-view+json": {
       "model_id": "44625c2deef34bfea50c02de8b922d38",
       "version_major": 2,
       "version_minor": 0
      },
      "text/plain": [
       "  0%|          | 0/8 [00:00<?, ?it/s]"
      ]
     },
     "metadata": {},
     "output_type": "display_data"
    },
    {
     "name": "stdout",
     "output_type": "stream",
     "text": [
      "{'eval_loss': 0.0015725211706012487, 'eval_accuracy': 1.0, 'eval_runtime': 5.0247, 'eval_samples_per_second': 39.804, 'eval_steps_per_second': 1.592, 'epoch': 1.88}\n",
      "{'loss': 0.0227, 'grad_norm': 5.8530426025390625, 'learning_rate': 1.976744186046512e-06, 'epoch': 1.94}\n"
     ]
    },
    {
     "data": {
      "application/vnd.jupyter.widget-view+json": {
       "model_id": "e9b39ebe84e449f4ab50c321b8d79514",
       "version_major": 2,
       "version_minor": 0
      },
      "text/plain": [
       "  0%|          | 0/8 [00:00<?, ?it/s]"
      ]
     },
     "metadata": {},
     "output_type": "display_data"
    },
    {
     "name": "stdout",
     "output_type": "stream",
     "text": [
      "{'eval_loss': 0.0015042679151520133, 'eval_accuracy': 1.0, 'eval_runtime': 4.9982, 'eval_samples_per_second': 40.014, 'eval_steps_per_second': 1.601, 'epoch': 1.94}\n",
      "{'loss': 0.0008, 'grad_norm': 0.022546371445059776, 'learning_rate': 1.86046511627907e-06, 'epoch': 2.0}\n"
     ]
    },
    {
     "data": {
      "application/vnd.jupyter.widget-view+json": {
       "model_id": "21e99cc198cb4024ae8d1c5766308e11",
       "version_major": 2,
       "version_minor": 0
      },
      "text/plain": [
       "  0%|          | 0/8 [00:00<?, ?it/s]"
      ]
     },
     "metadata": {},
     "output_type": "display_data"
    },
    {
     "name": "stdout",
     "output_type": "stream",
     "text": [
      "{'eval_loss': 0.0013063546502962708, 'eval_accuracy': 1.0, 'eval_runtime': 5.0443, 'eval_samples_per_second': 39.649, 'eval_steps_per_second': 1.586, 'epoch': 2.0}\n",
      "{'loss': 0.0009, 'grad_norm': 0.023383356630802155, 'learning_rate': 1.7441860465116282e-06, 'epoch': 2.06}\n"
     ]
    },
    {
     "data": {
      "application/vnd.jupyter.widget-view+json": {
       "model_id": "0e36cfd43573478cb44ca00967964fdd",
       "version_major": 2,
       "version_minor": 0
      },
      "text/plain": [
       "  0%|          | 0/8 [00:00<?, ?it/s]"
      ]
     },
     "metadata": {},
     "output_type": "display_data"
    },
    {
     "name": "stdout",
     "output_type": "stream",
     "text": [
      "{'eval_loss': 0.0011977951508015394, 'eval_accuracy': 1.0, 'eval_runtime': 5.0561, 'eval_samples_per_second': 39.556, 'eval_steps_per_second': 1.582, 'epoch': 2.06}\n",
      "{'loss': 0.0012, 'grad_norm': 0.03650808706879616, 'learning_rate': 1.6279069767441862e-06, 'epoch': 2.12}\n"
     ]
    },
    {
     "data": {
      "application/vnd.jupyter.widget-view+json": {
       "model_id": "a09d8da670fc4bedbca06aa66c493ae8",
       "version_major": 2,
       "version_minor": 0
      },
      "text/plain": [
       "  0%|          | 0/8 [00:00<?, ?it/s]"
      ]
     },
     "metadata": {},
     "output_type": "display_data"
    },
    {
     "name": "stdout",
     "output_type": "stream",
     "text": [
      "{'eval_loss': 0.0011230047093704343, 'eval_accuracy': 1.0, 'eval_runtime': 4.9969, 'eval_samples_per_second': 40.025, 'eval_steps_per_second': 1.601, 'epoch': 2.12}\n",
      "{'loss': 0.0015, 'grad_norm': 0.022300424054265022, 'learning_rate': 1.5116279069767443e-06, 'epoch': 2.19}\n"
     ]
    },
    {
     "data": {
      "application/vnd.jupyter.widget-view+json": {
       "model_id": "07162c82d5f24501890cd36f4e34fdbf",
       "version_major": 2,
       "version_minor": 0
      },
      "text/plain": [
       "  0%|          | 0/8 [00:00<?, ?it/s]"
      ]
     },
     "metadata": {},
     "output_type": "display_data"
    },
    {
     "name": "stdout",
     "output_type": "stream",
     "text": [
      "{'eval_loss': 0.0011037987424060702, 'eval_accuracy': 1.0, 'eval_runtime': 5.0459, 'eval_samples_per_second': 39.636, 'eval_steps_per_second': 1.585, 'epoch': 2.19}\n",
      "{'loss': 0.0022, 'grad_norm': 0.020815379917621613, 'learning_rate': 1.3953488372093025e-06, 'epoch': 2.25}\n"
     ]
    },
    {
     "data": {
      "application/vnd.jupyter.widget-view+json": {
       "model_id": "21ee30ae27044d12a2a3dea5affd2326",
       "version_major": 2,
       "version_minor": 0
      },
      "text/plain": [
       "  0%|          | 0/8 [00:00<?, ?it/s]"
      ]
     },
     "metadata": {},
     "output_type": "display_data"
    },
    {
     "name": "stdout",
     "output_type": "stream",
     "text": [
      "{'eval_loss': 0.0010176148498430848, 'eval_accuracy': 1.0, 'eval_runtime': 5.0627, 'eval_samples_per_second': 39.504, 'eval_steps_per_second': 1.58, 'epoch': 2.25}\n",
      "{'loss': 0.0009, 'grad_norm': 0.031150195747613907, 'learning_rate': 1.2790697674418605e-06, 'epoch': 2.31}\n"
     ]
    },
    {
     "data": {
      "application/vnd.jupyter.widget-view+json": {
       "model_id": "e51826a5a4ef44c681e00b37e98ad8dd",
       "version_major": 2,
       "version_minor": 0
      },
      "text/plain": [
       "  0%|          | 0/8 [00:00<?, ?it/s]"
      ]
     },
     "metadata": {},
     "output_type": "display_data"
    },
    {
     "name": "stdout",
     "output_type": "stream",
     "text": [
      "{'eval_loss': 0.0009685430559329689, 'eval_accuracy': 1.0, 'eval_runtime': 5.0338, 'eval_samples_per_second': 39.732, 'eval_steps_per_second': 1.589, 'epoch': 2.31}\n",
      "{'loss': 0.0008, 'grad_norm': 0.02592027746140957, 'learning_rate': 1.1627906976744188e-06, 'epoch': 2.38}\n"
     ]
    },
    {
     "data": {
      "application/vnd.jupyter.widget-view+json": {
       "model_id": "1cb3d33dbe034071a5a8ab0a510c8b39",
       "version_major": 2,
       "version_minor": 0
      },
      "text/plain": [
       "  0%|          | 0/8 [00:00<?, ?it/s]"
      ]
     },
     "metadata": {},
     "output_type": "display_data"
    },
    {
     "name": "stdout",
     "output_type": "stream",
     "text": [
      "{'eval_loss': 0.0009357996168546379, 'eval_accuracy': 1.0, 'eval_runtime': 5.0424, 'eval_samples_per_second': 39.664, 'eval_steps_per_second': 1.587, 'epoch': 2.38}\n",
      "{'loss': 0.0007, 'grad_norm': 0.024771898984909058, 'learning_rate': 1.0465116279069768e-06, 'epoch': 2.44}\n"
     ]
    },
    {
     "data": {
      "application/vnd.jupyter.widget-view+json": {
       "model_id": "657597c6f1fd45c4b09b9f14acf4968c",
       "version_major": 2,
       "version_minor": 0
      },
      "text/plain": [
       "  0%|          | 0/8 [00:00<?, ?it/s]"
      ]
     },
     "metadata": {},
     "output_type": "display_data"
    },
    {
     "name": "stdout",
     "output_type": "stream",
     "text": [
      "{'eval_loss': 0.0009132397826761007, 'eval_accuracy': 1.0, 'eval_runtime': 5.0092, 'eval_samples_per_second': 39.926, 'eval_steps_per_second': 1.597, 'epoch': 2.44}\n",
      "{'loss': 0.0007, 'grad_norm': 0.01801104098558426, 'learning_rate': 9.30232558139535e-07, 'epoch': 2.5}\n"
     ]
    },
    {
     "data": {
      "application/vnd.jupyter.widget-view+json": {
       "model_id": "b14ec46683c043f4b50aca0ff67eefab",
       "version_major": 2,
       "version_minor": 0
      },
      "text/plain": [
       "  0%|          | 0/8 [00:00<?, ?it/s]"
      ]
     },
     "metadata": {},
     "output_type": "display_data"
    },
    {
     "name": "stdout",
     "output_type": "stream",
     "text": [
      "{'eval_loss': 0.0008976156241260469, 'eval_accuracy': 1.0, 'eval_runtime': 4.984, 'eval_samples_per_second': 40.129, 'eval_steps_per_second': 1.605, 'epoch': 2.5}\n",
      "{'loss': 0.0009, 'grad_norm': 0.038009658455848694, 'learning_rate': 8.139534883720931e-07, 'epoch': 2.56}\n"
     ]
    },
    {
     "data": {
      "application/vnd.jupyter.widget-view+json": {
       "model_id": "8d4aed9a330b416cb90b5f8cd1b1072e",
       "version_major": 2,
       "version_minor": 0
      },
      "text/plain": [
       "  0%|          | 0/8 [00:00<?, ?it/s]"
      ]
     },
     "metadata": {},
     "output_type": "display_data"
    },
    {
     "name": "stdout",
     "output_type": "stream",
     "text": [
      "{'eval_loss': 0.0008853415492922068, 'eval_accuracy': 1.0, 'eval_runtime': 5.0964, 'eval_samples_per_second': 39.243, 'eval_steps_per_second': 1.57, 'epoch': 2.56}\n",
      "{'loss': 0.0007, 'grad_norm': 0.018288511782884598, 'learning_rate': 6.976744186046513e-07, 'epoch': 2.62}\n"
     ]
    },
    {
     "data": {
      "application/vnd.jupyter.widget-view+json": {
       "model_id": "16b4a09b42254f809ebeaf4aac1a3b05",
       "version_major": 2,
       "version_minor": 0
      },
      "text/plain": [
       "  0%|          | 0/8 [00:00<?, ?it/s]"
      ]
     },
     "metadata": {},
     "output_type": "display_data"
    },
    {
     "name": "stdout",
     "output_type": "stream",
     "text": [
      "{'eval_loss': 0.0008750578272156417, 'eval_accuracy': 1.0, 'eval_runtime': 5.0292, 'eval_samples_per_second': 39.768, 'eval_steps_per_second': 1.591, 'epoch': 2.62}\n",
      "{'loss': 0.001, 'grad_norm': 0.019202210009098053, 'learning_rate': 5.813953488372094e-07, 'epoch': 2.69}\n"
     ]
    },
    {
     "data": {
      "application/vnd.jupyter.widget-view+json": {
       "model_id": "8e2e524db39c42b98223508afd90cc08",
       "version_major": 2,
       "version_minor": 0
      },
      "text/plain": [
       "  0%|          | 0/8 [00:00<?, ?it/s]"
      ]
     },
     "metadata": {},
     "output_type": "display_data"
    },
    {
     "name": "stdout",
     "output_type": "stream",
     "text": [
      "{'eval_loss': 0.0008625498157925904, 'eval_accuracy': 1.0, 'eval_runtime': 5.0279, 'eval_samples_per_second': 39.778, 'eval_steps_per_second': 1.591, 'epoch': 2.69}\n",
      "{'loss': 0.0008, 'grad_norm': 0.019860917702317238, 'learning_rate': 4.651162790697675e-07, 'epoch': 2.75}\n"
     ]
    },
    {
     "data": {
      "application/vnd.jupyter.widget-view+json": {
       "model_id": "f1a64c12055d47e885d4f9bb352587b4",
       "version_major": 2,
       "version_minor": 0
      },
      "text/plain": [
       "  0%|          | 0/8 [00:00<?, ?it/s]"
      ]
     },
     "metadata": {},
     "output_type": "display_data"
    },
    {
     "name": "stdout",
     "output_type": "stream",
     "text": [
      "{'eval_loss': 0.0008528168546035886, 'eval_accuracy': 1.0, 'eval_runtime': 5.0231, 'eval_samples_per_second': 39.816, 'eval_steps_per_second': 1.593, 'epoch': 2.75}\n",
      "{'loss': 0.0008, 'grad_norm': 0.02354627661406994, 'learning_rate': 3.488372093023256e-07, 'epoch': 2.81}\n"
     ]
    },
    {
     "data": {
      "application/vnd.jupyter.widget-view+json": {
       "model_id": "7813010cc5b74d70b5678c33829e57ad",
       "version_major": 2,
       "version_minor": 0
      },
      "text/plain": [
       "  0%|          | 0/8 [00:00<?, ?it/s]"
      ]
     },
     "metadata": {},
     "output_type": "display_data"
    },
    {
     "name": "stdout",
     "output_type": "stream",
     "text": [
      "{'eval_loss': 0.0008462093537673354, 'eval_accuracy': 1.0, 'eval_runtime': 4.9923, 'eval_samples_per_second': 40.062, 'eval_steps_per_second': 1.602, 'epoch': 2.81}\n",
      "{'loss': 0.0008, 'grad_norm': 0.026922078803181648, 'learning_rate': 2.3255813953488374e-07, 'epoch': 2.88}\n"
     ]
    },
    {
     "data": {
      "application/vnd.jupyter.widget-view+json": {
       "model_id": "40bf490fa6f74618932df1781b6d6bf7",
       "version_major": 2,
       "version_minor": 0
      },
      "text/plain": [
       "  0%|          | 0/8 [00:00<?, ?it/s]"
      ]
     },
     "metadata": {},
     "output_type": "display_data"
    },
    {
     "name": "stdout",
     "output_type": "stream",
     "text": [
      "{'eval_loss': 0.0008418733486905694, 'eval_accuracy': 1.0, 'eval_runtime': 4.9996, 'eval_samples_per_second': 40.003, 'eval_steps_per_second': 1.6, 'epoch': 2.88}\n",
      "{'loss': 0.0014, 'grad_norm': 0.026043804362416267, 'learning_rate': 1.1627906976744187e-07, 'epoch': 2.94}\n"
     ]
    },
    {
     "data": {
      "application/vnd.jupyter.widget-view+json": {
       "model_id": "51baf668846041d68c0c1cccb8ad7b7f",
       "version_major": 2,
       "version_minor": 0
      },
      "text/plain": [
       "  0%|          | 0/8 [00:00<?, ?it/s]"
      ]
     },
     "metadata": {},
     "output_type": "display_data"
    },
    {
     "name": "stdout",
     "output_type": "stream",
     "text": [
      "{'eval_loss': 0.0008405281696468592, 'eval_accuracy': 1.0, 'eval_runtime': 4.9946, 'eval_samples_per_second': 40.043, 'eval_steps_per_second': 1.602, 'epoch': 2.94}\n",
      "{'loss': 0.0007, 'grad_norm': 0.021468114107847214, 'learning_rate': 0.0, 'epoch': 3.0}\n"
     ]
    },
    {
     "data": {
      "application/vnd.jupyter.widget-view+json": {
       "model_id": "55b577a2d3a840f39129d6b1b359e1ad",
       "version_major": 2,
       "version_minor": 0
      },
      "text/plain": [
       "  0%|          | 0/8 [00:00<?, ?it/s]"
      ]
     },
     "metadata": {},
     "output_type": "display_data"
    },
    {
     "name": "stdout",
     "output_type": "stream",
     "text": [
      "{'eval_loss': 0.0008404122781939805, 'eval_accuracy': 1.0, 'eval_runtime': 5.0207, 'eval_samples_per_second': 39.835, 'eval_steps_per_second': 1.593, 'epoch': 3.0}\n",
      "{'train_runtime': 861.9252, 'train_samples_per_second': 5.569, 'train_steps_per_second': 0.223, 'train_loss': 0.09751358614812489, 'epoch': 3.0}\n"
     ]
    },
    {
     "data": {
      "text/plain": [
       "TrainOutput(global_step=192, training_loss=0.09751358614812489, metrics={'train_runtime': 861.9252, 'train_samples_per_second': 5.569, 'train_steps_per_second': 0.223, 'total_flos': 661088810860800.0, 'train_loss': 0.09751358614812489, 'epoch': 3.0})"
      ]
     },
     "execution_count": 2,
     "metadata": {},
     "output_type": "execute_result"
    }
   ],
   "source": [
    "training_args = TrainingArguments(\n",
    "    output_dir=output_dir,\n",
    "    evaluation_strategy=\"steps\",\n",
    "    save_strategy=\"steps\",\n",
    "    eval_steps=0.02,\n",
    "    save_steps=0.02,\n",
    "    logging_steps=0.02,\n",
    "    save_total_limit=2,\n",
    "    learning_rate=5e-6,\n",
    "    per_device_train_batch_size=25, # 显存占用约7943MiB（MAX）\n",
    "    per_device_eval_batch_size=25,\n",
    "    num_train_epochs=3, \n",
    "    weight_decay=0.01,\n",
    "    warmup_ratio=0.1,\n",
    "    load_best_model_at_end=True,\n",
    "    metric_for_best_model=\"accuracy\",\n",
    "    push_to_hub=False,\n",
    ")\n",
    "\n",
    "trainer = Trainer(\n",
    "    model=model,\n",
    "    args=training_args,\n",
    "    train_dataset=tokenized[\"train\"],\n",
    "    eval_dataset=tokenized[\"validation\"],\n",
    "    tokenizer=tokenizer,\n",
    "    data_collator=data_collator,\n",
    "    compute_metrics=compute_metrics,\n",
    ")\n",
    "\n",
    "trainer.train()"
   ]
  },
  {
   "cell_type": "code",
   "execution_count": 3,
   "metadata": {},
   "outputs": [
    {
     "data": {
      "application/vnd.jupyter.widget-view+json": {
       "model_id": "0987501dcdff4163912e026b467db9a0",
       "version_major": 2,
       "version_minor": 0
      },
      "text/plain": [
       "  0%|          | 0/8 [00:00<?, ?it/s]"
      ]
     },
     "metadata": {},
     "output_type": "display_data"
    },
    {
     "name": "stdout",
     "output_type": "stream",
     "text": [
      "Confusion Matrix:\n",
      "[[100   1]\n",
      " [  1  98]]\n"
     ]
    },
    {
     "data": {
      "image/png": "[encoded data removed]",
      "text/plain": [
       "<Figure size 1000x700 with 2 Axes>"
      ]
     },
     "metadata": {},
     "output_type": "display_data"
    }
   ],
   "source": [
    "predictions = trainer.predict(tokenized[\"test\"]).predictions\n",
    "predictions = np.argmax(predictions, axis=1)\n",
    "true_labels = tokenized[\"test\"][\"label\"]\n",
    "\n",
    "# 计算混淆矩阵\n",
    "cm = confusion_matrix(true_labels, predictions)\n",
    "\n",
    "# 打印混淆矩阵\n",
    "print(\"Confusion Matrix:\")\n",
    "print(cm)\n",
    "\n",
    "# 使用seaborn绘制混淆矩阵的热力图\n",
    "plt.figure(figsize=(10, 7))\n",
    "sns.heatmap(cm, annot=True, fmt=\"d\")\n",
    "plt.title(\"Confusion Matrix\")\n",
    "plt.xlabel(\"Predicted\")\n",
    "plt.ylabel(\"True\")\n",
    "plt.show()\n"
   ]
  },
  {
   "cell_type": "code",
   "execution_count": 4,
   "metadata": {},
   "outputs": [
    {
     "data": {
      "application/vnd.jupyter.widget-view+json": {
       "model_id": "6dac2cf691ed43cf83341dda3b75154b",
       "version_major": 2,
       "version_minor": 0
      },
      "text/plain": [
       "  0%|          | 0/8 [00:00<?, ?it/s]"
      ]
     },
     "metadata": {},
     "output_type": "display_data"
    },
    {
     "name": "stdout",
     "output_type": "stream",
     "text": [
      "Confusion Matrix:\n",
      "[[100   1]\n",
      " [  1  98]]\n",
      "True Label: 1, Predicted Label: 0, Text: 生态环境建设行业的上游是什么行业？\n",
      "True Label: 0, Predicted Label: 1, Text: e租宝的投资人能拿回多少投资?\n"
     ]
    }
   ],
   "source": [
    "from sklearn.metrics import confusion_matrix\n",
    "import pandas as pd\n",
    "# 加载测试数据\n",
    "test_data = pd.read_parquet(\"./datasets/FinQuestions_v2/test.parquet\")\n",
    "\n",
    "# 预测\n",
    "predictions = trainer.predict(tokenized[\"test\"]).predictions\n",
    "predictions = np.argmax(predictions, axis=1)\n",
    "true_labels = test_data[\"label\"]\n",
    "\n",
    "# 计算混淆矩阵\n",
    "cm = confusion_matrix(true_labels, predictions)\n",
    "\n",
    "# 打印混淆矩阵\n",
    "print(\"Confusion Matrix:\")\n",
    "print(cm)\n",
    "\n",
    "# 找出预测错误的案例\n",
    "wrong_predictions = test_data[predictions != true_labels]\n",
    "\n",
    "# 打印预测错误的案例\n",
    "for index, row in wrong_predictions.iterrows():\n",
    "    print(f\"True Label: {row['label']}, Predicted Label: {predictions[index]}, Text: {row['text']}\")"
   ]
  },
  {
   "cell_type": "code",
   "execution_count": 5,
   "metadata": {},
   "outputs": [],
   "source": [
    "text = \"2024年3月18日基金走势如何？\"\n",
    "\n",
    "# classifier = pipeline(\"sentiment-analysis\", model=output_dir+\"/checkpoint-75\")\n",
    "# classifier(text)"
   ]
  }
 ],
 "metadata": {
  "kernelspec": {
   "display_name": ".venv",
   "language": "python",
   "name": "python3"
  },
  "language_info": {
   "codemirror_mode": {
    "name": "ipython",
    "version": 3
   },
   "file_extension": ".py",
   "mimetype": "text/x-python",
   "name": "python",
   "nbconvert_exporter": "python",
   "pygments_lexer": "ipython3",
   "version": "3.11.8"
  }
 },
 "nbformat": 4,
 "nbformat_minor": 2
}
